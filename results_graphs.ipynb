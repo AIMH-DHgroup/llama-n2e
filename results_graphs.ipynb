{
 "cells": [
  {
   "cell_type": "code",
   "execution_count": 1,
   "id": "ad8cf8c9",
   "metadata": {
    "ExecuteTime": {
     "end_time": "2024-03-08T14:26:01.756101Z",
     "start_time": "2024-03-08T14:26:00.838323Z"
    }
   },
   "outputs": [
    {
     "data": {
      "text/plain": "                              narrative  Jaccard  # Paragraphs  Avg sentences  \\\n0                              calamaro     0.98           5.0           2.40   \n1                                 bruni     0.95           4.0           1.25   \n2                           gpt-fantasy     1.00           5.0           2.20   \n3                               gpt-ww2     1.00          10.0           1.50   \n4                             celacanto     1.00           8.0           1.75   \n..                                  ...      ...           ...            ...   \n109         Robert Nimmo (World War II)     1.00          13.0           1.15   \n110    Jurassic (Etymology and history)     1.00           9.0           1.33   \n111  British Empire (Origins 1497–1583)     0.99           6.0           2.00   \n112          Moon (natural development)     1.00           5.0           2.20   \n113        Christmas Carol (background)     0.89           6.0           2.00   \n\n     # Characters  # Tokens  \n0          1750.0     361.0  \n1          1238.0     246.0  \n2          1419.0     267.0  \n3          1884.0     340.0  \n4          1762.0     368.0  \n..            ...       ...  \n109        2083.0     404.0  \n110        2207.0     383.0  \n111        2012.0     372.0  \n112        1260.0     234.0  \n113        1790.0     334.0  \n\n[114 rows x 6 columns]",
      "text/html": "<div>\n<style scoped>\n    .dataframe tbody tr th:only-of-type {\n        vertical-align: middle;\n    }\n\n    .dataframe tbody tr th {\n        vertical-align: top;\n    }\n\n    .dataframe thead th {\n        text-align: right;\n    }\n</style>\n<table border=\"1\" class=\"dataframe\">\n  <thead>\n    <tr style=\"text-align: right;\">\n      <th></th>\n      <th>narrative</th>\n      <th>Jaccard</th>\n      <th># Paragraphs</th>\n      <th>Avg sentences</th>\n      <th># Characters</th>\n      <th># Tokens</th>\n    </tr>\n  </thead>\n  <tbody>\n    <tr>\n      <th>0</th>\n      <td>calamaro</td>\n      <td>0.98</td>\n      <td>5.0</td>\n      <td>2.40</td>\n      <td>1750.0</td>\n      <td>361.0</td>\n    </tr>\n    <tr>\n      <th>1</th>\n      <td>bruni</td>\n      <td>0.95</td>\n      <td>4.0</td>\n      <td>1.25</td>\n      <td>1238.0</td>\n      <td>246.0</td>\n    </tr>\n    <tr>\n      <th>2</th>\n      <td>gpt-fantasy</td>\n      <td>1.00</td>\n      <td>5.0</td>\n      <td>2.20</td>\n      <td>1419.0</td>\n      <td>267.0</td>\n    </tr>\n    <tr>\n      <th>3</th>\n      <td>gpt-ww2</td>\n      <td>1.00</td>\n      <td>10.0</td>\n      <td>1.50</td>\n      <td>1884.0</td>\n      <td>340.0</td>\n    </tr>\n    <tr>\n      <th>4</th>\n      <td>celacanto</td>\n      <td>1.00</td>\n      <td>8.0</td>\n      <td>1.75</td>\n      <td>1762.0</td>\n      <td>368.0</td>\n    </tr>\n    <tr>\n      <th>...</th>\n      <td>...</td>\n      <td>...</td>\n      <td>...</td>\n      <td>...</td>\n      <td>...</td>\n      <td>...</td>\n    </tr>\n    <tr>\n      <th>109</th>\n      <td>Robert Nimmo (World War II)</td>\n      <td>1.00</td>\n      <td>13.0</td>\n      <td>1.15</td>\n      <td>2083.0</td>\n      <td>404.0</td>\n    </tr>\n    <tr>\n      <th>110</th>\n      <td>Jurassic (Etymology and history)</td>\n      <td>1.00</td>\n      <td>9.0</td>\n      <td>1.33</td>\n      <td>2207.0</td>\n      <td>383.0</td>\n    </tr>\n    <tr>\n      <th>111</th>\n      <td>British Empire (Origins 1497–1583)</td>\n      <td>0.99</td>\n      <td>6.0</td>\n      <td>2.00</td>\n      <td>2012.0</td>\n      <td>372.0</td>\n    </tr>\n    <tr>\n      <th>112</th>\n      <td>Moon (natural development)</td>\n      <td>1.00</td>\n      <td>5.0</td>\n      <td>2.20</td>\n      <td>1260.0</td>\n      <td>234.0</td>\n    </tr>\n    <tr>\n      <th>113</th>\n      <td>Christmas Carol (background)</td>\n      <td>0.89</td>\n      <td>6.0</td>\n      <td>2.00</td>\n      <td>1790.0</td>\n      <td>334.0</td>\n    </tr>\n  </tbody>\n</table>\n<p>114 rows × 6 columns</p>\n</div>"
     },
     "execution_count": 1,
     "metadata": {},
     "output_type": "execute_result"
    }
   ],
   "source": [
    "import pandas as pd\n",
    "import matplotlib.pyplot as plt\n",
    "\n",
    "suffix = 'all-J90'\n",
    "suffix2 = 'all-J99'\n",
    "\n",
    "df = pd.read_csv(\"results-\" + suffix + \".csv\")\n",
    "\n",
    "df"
   ]
  },
  {
   "cell_type": "code",
   "outputs": [
    {
     "data": {
      "text/plain": "                              narrative  Jaccard  # Paragraphs  Avg sentences  \\\n0                              calamaro     0.98           5.0           2.40   \n1                                 bruni     0.95           4.0           1.25   \n2                           gpt-fantasy     1.00           5.0           2.20   \n3                               gpt-ww2     1.00          10.0           1.50   \n4                             celacanto     1.00           8.0           1.75   \n..                                  ...      ...           ...            ...   \n109         Robert Nimmo (World War II)     1.00          13.0           1.15   \n110    Jurassic (Etymology and history)     1.00           9.0           1.33   \n111  British Empire (Origins 1497–1583)     0.99           5.0           2.40   \n112          Moon (natural development)     1.00           5.0           2.20   \n113        Christmas Carol (background)     0.89           6.0           2.00   \n\n     # Characters  # Tokens  \n0          1750.0     361.0  \n1          1238.0     246.0  \n2          1419.0     267.0  \n3          1884.0     340.0  \n4          1762.0     368.0  \n..            ...       ...  \n109        2083.0     404.0  \n110        2207.0     383.0  \n111        2007.0     369.0  \n112        1260.0     234.0  \n113        1790.0     334.0  \n\n[114 rows x 6 columns]",
      "text/html": "<div>\n<style scoped>\n    .dataframe tbody tr th:only-of-type {\n        vertical-align: middle;\n    }\n\n    .dataframe tbody tr th {\n        vertical-align: top;\n    }\n\n    .dataframe thead th {\n        text-align: right;\n    }\n</style>\n<table border=\"1\" class=\"dataframe\">\n  <thead>\n    <tr style=\"text-align: right;\">\n      <th></th>\n      <th>narrative</th>\n      <th>Jaccard</th>\n      <th># Paragraphs</th>\n      <th>Avg sentences</th>\n      <th># Characters</th>\n      <th># Tokens</th>\n    </tr>\n  </thead>\n  <tbody>\n    <tr>\n      <th>0</th>\n      <td>calamaro</td>\n      <td>0.98</td>\n      <td>5.0</td>\n      <td>2.40</td>\n      <td>1750.0</td>\n      <td>361.0</td>\n    </tr>\n    <tr>\n      <th>1</th>\n      <td>bruni</td>\n      <td>0.95</td>\n      <td>4.0</td>\n      <td>1.25</td>\n      <td>1238.0</td>\n      <td>246.0</td>\n    </tr>\n    <tr>\n      <th>2</th>\n      <td>gpt-fantasy</td>\n      <td>1.00</td>\n      <td>5.0</td>\n      <td>2.20</td>\n      <td>1419.0</td>\n      <td>267.0</td>\n    </tr>\n    <tr>\n      <th>3</th>\n      <td>gpt-ww2</td>\n      <td>1.00</td>\n      <td>10.0</td>\n      <td>1.50</td>\n      <td>1884.0</td>\n      <td>340.0</td>\n    </tr>\n    <tr>\n      <th>4</th>\n      <td>celacanto</td>\n      <td>1.00</td>\n      <td>8.0</td>\n      <td>1.75</td>\n      <td>1762.0</td>\n      <td>368.0</td>\n    </tr>\n    <tr>\n      <th>...</th>\n      <td>...</td>\n      <td>...</td>\n      <td>...</td>\n      <td>...</td>\n      <td>...</td>\n      <td>...</td>\n    </tr>\n    <tr>\n      <th>109</th>\n      <td>Robert Nimmo (World War II)</td>\n      <td>1.00</td>\n      <td>13.0</td>\n      <td>1.15</td>\n      <td>2083.0</td>\n      <td>404.0</td>\n    </tr>\n    <tr>\n      <th>110</th>\n      <td>Jurassic (Etymology and history)</td>\n      <td>1.00</td>\n      <td>9.0</td>\n      <td>1.33</td>\n      <td>2207.0</td>\n      <td>383.0</td>\n    </tr>\n    <tr>\n      <th>111</th>\n      <td>British Empire (Origins 1497–1583)</td>\n      <td>0.99</td>\n      <td>5.0</td>\n      <td>2.40</td>\n      <td>2007.0</td>\n      <td>369.0</td>\n    </tr>\n    <tr>\n      <th>112</th>\n      <td>Moon (natural development)</td>\n      <td>1.00</td>\n      <td>5.0</td>\n      <td>2.20</td>\n      <td>1260.0</td>\n      <td>234.0</td>\n    </tr>\n    <tr>\n      <th>113</th>\n      <td>Christmas Carol (background)</td>\n      <td>0.89</td>\n      <td>6.0</td>\n      <td>2.00</td>\n      <td>1790.0</td>\n      <td>334.0</td>\n    </tr>\n  </tbody>\n</table>\n<p>114 rows × 6 columns</p>\n</div>"
     },
     "execution_count": 2,
     "metadata": {},
     "output_type": "execute_result"
    }
   ],
   "source": [
    "df22 = pd.read_csv(\"results-\" + suffix2 + \".csv\")\n",
    "df22"
   ],
   "metadata": {
    "collapsed": false,
    "ExecuteTime": {
     "end_time": "2024-03-08T14:26:01.771099Z",
     "start_time": "2024-03-08T14:26:01.757102Z"
    }
   },
   "id": "84d8e777107c617",
   "execution_count": 2
  },
  {
   "cell_type": "code",
   "outputs": [
    {
     "data": {
      "text/plain": "                          narrative  Jaccard  # Sentences  # Characters  \\\n0            Napoleon: Early career     1.00          2.0         204.0   \n1            Napoleon: Early career     0.74          4.0         475.0   \n2            Napoleon: Early career     0.29          3.0         721.0   \n3            Napoleon: Early career     0.10          4.0         395.0   \n4            Napoleon: Early career     0.06          1.0         232.0   \n..                              ...      ...          ...           ...   \n261        Milk (industrialization)     0.08          5.0         467.0   \n262  Chocolate (Mesoamerican usage)     0.44          4.0         618.0   \n263  Chocolate (Mesoamerican usage)     0.17          3.0         461.0   \n264  Chocolate (Mesoamerican usage)     0.12          3.0         595.0   \n265  Chocolate (Mesoamerican usage)     0.17          2.0         287.0   \n\n     # Tokens  \n0        35.0  \n1        84.0  \n2       120.0  \n3        80.0  \n4        39.0  \n..        ...  \n261      92.0  \n262     118.0  \n263      86.0  \n264     113.0  \n265      57.0  \n\n[266 rows x 5 columns]",
      "text/html": "<div>\n<style scoped>\n    .dataframe tbody tr th:only-of-type {\n        vertical-align: middle;\n    }\n\n    .dataframe tbody tr th {\n        vertical-align: top;\n    }\n\n    .dataframe thead th {\n        text-align: right;\n    }\n</style>\n<table border=\"1\" class=\"dataframe\">\n  <thead>\n    <tr style=\"text-align: right;\">\n      <th></th>\n      <th>narrative</th>\n      <th>Jaccard</th>\n      <th># Sentences</th>\n      <th># Characters</th>\n      <th># Tokens</th>\n    </tr>\n  </thead>\n  <tbody>\n    <tr>\n      <th>0</th>\n      <td>Napoleon: Early career</td>\n      <td>1.00</td>\n      <td>2.0</td>\n      <td>204.0</td>\n      <td>35.0</td>\n    </tr>\n    <tr>\n      <th>1</th>\n      <td>Napoleon: Early career</td>\n      <td>0.74</td>\n      <td>4.0</td>\n      <td>475.0</td>\n      <td>84.0</td>\n    </tr>\n    <tr>\n      <th>2</th>\n      <td>Napoleon: Early career</td>\n      <td>0.29</td>\n      <td>3.0</td>\n      <td>721.0</td>\n      <td>120.0</td>\n    </tr>\n    <tr>\n      <th>3</th>\n      <td>Napoleon: Early career</td>\n      <td>0.10</td>\n      <td>4.0</td>\n      <td>395.0</td>\n      <td>80.0</td>\n    </tr>\n    <tr>\n      <th>4</th>\n      <td>Napoleon: Early career</td>\n      <td>0.06</td>\n      <td>1.0</td>\n      <td>232.0</td>\n      <td>39.0</td>\n    </tr>\n    <tr>\n      <th>...</th>\n      <td>...</td>\n      <td>...</td>\n      <td>...</td>\n      <td>...</td>\n      <td>...</td>\n    </tr>\n    <tr>\n      <th>261</th>\n      <td>Milk (industrialization)</td>\n      <td>0.08</td>\n      <td>5.0</td>\n      <td>467.0</td>\n      <td>92.0</td>\n    </tr>\n    <tr>\n      <th>262</th>\n      <td>Chocolate (Mesoamerican usage)</td>\n      <td>0.44</td>\n      <td>4.0</td>\n      <td>618.0</td>\n      <td>118.0</td>\n    </tr>\n    <tr>\n      <th>263</th>\n      <td>Chocolate (Mesoamerican usage)</td>\n      <td>0.17</td>\n      <td>3.0</td>\n      <td>461.0</td>\n      <td>86.0</td>\n    </tr>\n    <tr>\n      <th>264</th>\n      <td>Chocolate (Mesoamerican usage)</td>\n      <td>0.12</td>\n      <td>3.0</td>\n      <td>595.0</td>\n      <td>113.0</td>\n    </tr>\n    <tr>\n      <th>265</th>\n      <td>Chocolate (Mesoamerican usage)</td>\n      <td>0.17</td>\n      <td>2.0</td>\n      <td>287.0</td>\n      <td>57.0</td>\n    </tr>\n  </tbody>\n</table>\n<p>266 rows × 5 columns</p>\n</div>"
     },
     "execution_count": 27,
     "metadata": {},
     "output_type": "execute_result"
    }
   ],
   "source": [
    "# this cell is only used to show data on individual paragraphs (each row is a paragraph)\n",
    "\n",
    "suffix3 = 'all-J99'\n",
    "df2 = pd.read_csv(\"extract_narra-\" + suffix3 + \".csv\")\n",
    "df2"
   ],
   "metadata": {
    "collapsed": false,
    "ExecuteTime": {
     "end_time": "2024-03-07T13:41:22.500491Z",
     "start_time": "2024-03-07T13:41:22.483493Z"
    }
   },
   "id": "29cdfade59a79caf",
   "execution_count": 27
  },
  {
   "cell_type": "code",
   "outputs": [
    {
     "data": {
      "text/plain": "       Jaccard  # Paragraphs  Avg sentences  # Characters  # Tokens\ncount   114.00        114.00         114.00        114.00    114.00\nmean      0.99          8.20           1.85       1958.61    366.31\nstd       0.03          2.77           0.60        269.27     46.79\nmin       0.86          4.00           1.00       1238.00    234.00\n25%       0.99          6.00           1.30       1844.00    350.25\n50%       1.00          7.00           1.88       1979.50    370.50\n75%       1.00         10.00           2.20       2073.50    388.00\nmax       1.00         17.00           4.75       3213.00    591.00",
      "text/html": "<div>\n<style scoped>\n    .dataframe tbody tr th:only-of-type {\n        vertical-align: middle;\n    }\n\n    .dataframe tbody tr th {\n        vertical-align: top;\n    }\n\n    .dataframe thead th {\n        text-align: right;\n    }\n</style>\n<table border=\"1\" class=\"dataframe\">\n  <thead>\n    <tr style=\"text-align: right;\">\n      <th></th>\n      <th>Jaccard</th>\n      <th># Paragraphs</th>\n      <th>Avg sentences</th>\n      <th># Characters</th>\n      <th># Tokens</th>\n    </tr>\n  </thead>\n  <tbody>\n    <tr>\n      <th>count</th>\n      <td>114.00</td>\n      <td>114.00</td>\n      <td>114.00</td>\n      <td>114.00</td>\n      <td>114.00</td>\n    </tr>\n    <tr>\n      <th>mean</th>\n      <td>0.99</td>\n      <td>8.20</td>\n      <td>1.85</td>\n      <td>1958.61</td>\n      <td>366.31</td>\n    </tr>\n    <tr>\n      <th>std</th>\n      <td>0.03</td>\n      <td>2.77</td>\n      <td>0.60</td>\n      <td>269.27</td>\n      <td>46.79</td>\n    </tr>\n    <tr>\n      <th>min</th>\n      <td>0.86</td>\n      <td>4.00</td>\n      <td>1.00</td>\n      <td>1238.00</td>\n      <td>234.00</td>\n    </tr>\n    <tr>\n      <th>25%</th>\n      <td>0.99</td>\n      <td>6.00</td>\n      <td>1.30</td>\n      <td>1844.00</td>\n      <td>350.25</td>\n    </tr>\n    <tr>\n      <th>50%</th>\n      <td>1.00</td>\n      <td>7.00</td>\n      <td>1.88</td>\n      <td>1979.50</td>\n      <td>370.50</td>\n    </tr>\n    <tr>\n      <th>75%</th>\n      <td>1.00</td>\n      <td>10.00</td>\n      <td>2.20</td>\n      <td>2073.50</td>\n      <td>388.00</td>\n    </tr>\n    <tr>\n      <th>max</th>\n      <td>1.00</td>\n      <td>17.00</td>\n      <td>4.75</td>\n      <td>3213.00</td>\n      <td>591.00</td>\n    </tr>\n  </tbody>\n</table>\n</div>"
     },
     "execution_count": 28,
     "metadata": {},
     "output_type": "execute_result"
    }
   ],
   "source": [
    "round(df.describe(), 2)"
   ],
   "metadata": {
    "collapsed": false,
    "ExecuteTime": {
     "end_time": "2024-03-07T13:41:22.824951Z",
     "start_time": "2024-03-07T13:41:22.800953Z"
    }
   },
   "id": "85b9a2d5daaaccae",
   "execution_count": 28
  },
  {
   "cell_type": "code",
   "execution_count": 29,
   "id": "632a06dd",
   "metadata": {
    "ExecuteTime": {
     "end_time": "2024-03-07T13:41:23.646859Z",
     "start_time": "2024-03-07T13:41:23.117002Z"
    }
   },
   "outputs": [
    {
     "data": {
      "text/plain": "<Figure size 2000x1200 with 5 Axes>",
      "image/png": "[encoded data removed]"
     },
     "metadata": {},
     "output_type": "display_data"
    }
   ],
   "source": [
    "plt.figure(figsize=(20, 12))\n",
    "\n",
    "# Jaccard Line chart\n",
    "plt.subplot(3, 3, 1)\n",
    "plt.plot(df.index, df['Jaccard'], marker='o', linestyle='-', color='blue')\n",
    "plt.title('Jaccard')\n",
    "plt.xlabel('Texts')\n",
    "plt.ylabel('Values')\n",
    "plt.xticks(rotation=90)\n",
    "\n",
    "# #Paragrafi Line chart\n",
    "plt.subplot(3, 3, 2)\n",
    "plt.plot(df.index, df['# Paragraphs'], marker='o', linestyle='-', color='green')\n",
    "plt.title('# Paragraphs')\n",
    "plt.xlabel('Texts')\n",
    "plt.ylabel('Values')\n",
    "plt.xticks(rotation=90)\n",
    "\n",
    "# Avg sentences Line chart\n",
    "plt.subplot(3, 3, 3)\n",
    "plt.plot(df.index, df['Avg sentences'], marker='o', linestyle='-', color='red')\n",
    "plt.title('Avg sentences')\n",
    "plt.xlabel('Texts')\n",
    "plt.ylabel('Values')\n",
    "plt.xticks(rotation=90)\n",
    "\n",
    "# #Characters Line chart\n",
    "plt.subplot(3, 3, 4)\n",
    "plt.plot(df.index, df['# Characters'], marker='o', linestyle='-', color='yellow')\n",
    "plt.title('# Characters')\n",
    "plt.xlabel('Texts')\n",
    "plt.ylabel('Values')\n",
    "plt.xticks(rotation=90)\n",
    "\n",
    "# #Tokens Line chart\n",
    "plt.subplot(3, 3, 5)\n",
    "plt.plot(df.index, df['# Tokens'], marker='o', linestyle='-', color='brown')\n",
    "plt.title('# Tokens')\n",
    "plt.xlabel('Texts')\n",
    "plt.ylabel('Values')\n",
    "plt.xticks(rotation=90)\n",
    "\n",
    "plt.tight_layout()\n",
    "plt.show()"
   ]
  },
  {
   "cell_type": "code",
   "execution_count": 30,
   "id": "85bb6fec",
   "metadata": {
    "ExecuteTime": {
     "end_time": "2024-03-07T13:41:23.693858Z",
     "start_time": "2024-03-07T13:41:23.647858Z"
    }
   },
   "outputs": [
    {
     "data": {
      "application/vnd.plotly.v1+json": {
       "data": [
        {
         "hovertemplate": "Variable=Jaccard<br>index=%{x}<br>Values=%{y}<extra></extra>",
         "legendgroup": "Jaccard",
         "line": {
          "color": "#636efa",
          "dash": "solid"
         },
         "marker": {
          "symbol": "circle"
         },
         "mode": "lines",
         "name": "Jaccard",
         "orientation": "v",
         "showlegend": true,
         "x": [
          0,
          1,
          2,
          3,
          4,
          5,
          6,
          7,
          8,
          9,
          10,
          11,
          12,
          13,
          14,
          15,
          16,
          17,
          18,
          19,
          20,
          21,
          22,
          23,
          24,
          25,
          26,
          27,
          28,
          29,
          30,
          31,
          32,
          33,
          34,
          35,
          36,
          37,
          38,
          39,
          40,
          41,
          42,
          43,
          44,
          45,
          46,
          47,
          48,
          49,
          50,
          51,
          52,
          53,
          54,
          55,
          56,
          57,
          58,
          59,
          60,
          61,
          62,
          63,
          64,
          65,
          66,
          67,
          68,
          69,
          70,
          71,
          72,
          73,
          74,
          75,
          76,
          77,
          78,
          79,
          80,
          81,
          82,
          83,
          84,
          85,
          86,
          87,
          88,
          89,
          90,
          91,
          92,
          93,
          94,
          95,
          96,
          97,
          98,
          99,
          100,
          101,
          102,
          103,
          104,
          105,
          106,
          107,
          108,
          109,
          110,
          111,
          112,
          113
         ],
         "xaxis": "x",
         "y": [
          0.98,
          0.95,
          1.0,
          1.0,
          1.0,
          1.0,
          0.99,
          0.88,
          1.0,
          1.0,
          0.95,
          0.99,
          1.0,
          1.0,
          1.0,
          1.0,
          1.0,
          0.97,
          0.99,
          1.0,
          1.0,
          1.0,
          1.0,
          1.0,
          1.0,
          1.0,
          0.99,
          1.0,
          1.0,
          1.0,
          1.0,
          1.0,
          1.0,
          1.0,
          0.96,
          1.0,
          1.0,
          1.0,
          1.0,
          0.97,
          1.0,
          1.0,
          1.0,
          1.0,
          0.99,
          1.0,
          0.93,
          1.0,
          1.0,
          0.97,
          1.0,
          1.0,
          0.99,
          0.94,
          1.0,
          1.0,
          0.98,
          1.0,
          0.99,
          1.0,
          0.99,
          1.0,
          1.0,
          1.0,
          1.0,
          0.99,
          0.98,
          1.0,
          0.99,
          0.98,
          0.99,
          1.0,
          0.91,
          0.97,
          1.0,
          1.0,
          0.86,
          1.0,
          1.0,
          1.0,
          1.0,
          1.0,
          1.0,
          1.0,
          1.0,
          0.99,
          1.0,
          0.91,
          1.0,
          0.99,
          1.0,
          1.0,
          1.0,
          1.0,
          1.0,
          1.0,
          1.0,
          1.0,
          1.0,
          1.0,
          0.93,
          1.0,
          1.0,
          0.98,
          1.0,
          0.99,
          1.0,
          1.0,
          0.95,
          1.0,
          1.0,
          0.99,
          1.0,
          0.89
         ],
         "yaxis": "y",
         "type": "scatter"
        },
        {
         "hovertemplate": "Variable=# Paragraphs<br>index=%{x}<br>Values=%{y}<extra></extra>",
         "legendgroup": "# Paragraphs",
         "line": {
          "color": "#EF553B",
          "dash": "solid"
         },
         "marker": {
          "symbol": "circle"
         },
         "mode": "lines",
         "name": "# Paragraphs",
         "orientation": "v",
         "showlegend": true,
         "x": [
          0,
          1,
          2,
          3,
          4,
          5,
          6,
          7,
          8,
          9,
          10,
          11,
          12,
          13,
          14,
          15,
          16,
          17,
          18,
          19,
          20,
          21,
          22,
          23,
          24,
          25,
          26,
          27,
          28,
          29,
          30,
          31,
          32,
          33,
          34,
          35,
          36,
          37,
          38,
          39,
          40,
          41,
          42,
          43,
          44,
          45,
          46,
          47,
          48,
          49,
          50,
          51,
          52,
          53,
          54,
          55,
          56,
          57,
          58,
          59,
          60,
          61,
          62,
          63,
          64,
          65,
          66,
          67,
          68,
          69,
          70,
          71,
          72,
          73,
          74,
          75,
          76,
          77,
          78,
          79,
          80,
          81,
          82,
          83,
          84,
          85,
          86,
          87,
          88,
          89,
          90,
          91,
          92,
          93,
          94,
          95,
          96,
          97,
          98,
          99,
          100,
          101,
          102,
          103,
          104,
          105,
          106,
          107,
          108,
          109,
          110,
          111,
          112,
          113
         ],
         "xaxis": "x",
         "y": [
          5.0,
          4.0,
          5.0,
          10.0,
          8.0,
          8.0,
          7.0,
          6.0,
          10.0,
          12.0,
          13.0,
          8.0,
          5.0,
          6.0,
          8.0,
          6.0,
          6.0,
          7.0,
          7.0,
          11.0,
          8.0,
          6.0,
          10.0,
          6.0,
          7.0,
          7.0,
          8.0,
          6.0,
          9.0,
          6.0,
          6.0,
          6.0,
          8.0,
          10.0,
          11.0,
          9.0,
          6.0,
          9.0,
          7.0,
          8.0,
          13.0,
          7.0,
          6.0,
          7.0,
          7.0,
          13.0,
          11.0,
          9.0,
          6.0,
          6.0,
          9.0,
          10.0,
          10.0,
          5.0,
          7.0,
          12.0,
          5.0,
          13.0,
          6.0,
          6.0,
          11.0,
          9.0,
          13.0,
          7.0,
          7.0,
          7.0,
          6.0,
          12.0,
          5.0,
          5.0,
          5.0,
          6.0,
          5.0,
          4.0,
          11.0,
          6.0,
          6.0,
          7.0,
          10.0,
          7.0,
          6.0,
          6.0,
          14.0,
          9.0,
          12.0,
          9.0,
          11.0,
          4.0,
          7.0,
          7.0,
          9.0,
          6.0,
          8.0,
          11.0,
          16.0,
          7.0,
          11.0,
          14.0,
          14.0,
          5.0,
          9.0,
          9.0,
          8.0,
          17.0,
          10.0,
          7.0,
          10.0,
          6.0,
          12.0,
          13.0,
          9.0,
          6.0,
          5.0,
          6.0
         ],
         "yaxis": "y",
         "type": "scatter"
        },
        {
         "hovertemplate": "Variable=Avg sentences<br>index=%{x}<br>Values=%{y}<extra></extra>",
         "legendgroup": "Avg sentences",
         "line": {
          "color": "#00cc96",
          "dash": "solid"
         },
         "marker": {
          "symbol": "circle"
         },
         "mode": "lines",
         "name": "Avg sentences",
         "orientation": "v",
         "showlegend": true,
         "x": [
          0,
          1,
          2,
          3,
          4,
          5,
          6,
          7,
          8,
          9,
          10,
          11,
          12,
          13,
          14,
          15,
          16,
          17,
          18,
          19,
          20,
          21,
          22,
          23,
          24,
          25,
          26,
          27,
          28,
          29,
          30,
          31,
          32,
          33,
          34,
          35,
          36,
          37,
          38,
          39,
          40,
          41,
          42,
          43,
          44,
          45,
          46,
          47,
          48,
          49,
          50,
          51,
          52,
          53,
          54,
          55,
          56,
          57,
          58,
          59,
          60,
          61,
          62,
          63,
          64,
          65,
          66,
          67,
          68,
          69,
          70,
          71,
          72,
          73,
          74,
          75,
          76,
          77,
          78,
          79,
          80,
          81,
          82,
          83,
          84,
          85,
          86,
          87,
          88,
          89,
          90,
          91,
          92,
          93,
          94,
          95,
          96,
          97,
          98,
          99,
          100,
          101,
          102,
          103,
          104,
          105,
          106,
          107,
          108,
          109,
          110,
          111,
          112,
          113
         ],
         "xaxis": "x",
         "y": [
          2.4,
          1.25,
          2.2,
          1.5,
          1.75,
          2.0,
          2.14,
          2.0,
          1.3,
          1.08,
          1.08,
          1.62,
          3.0,
          2.83,
          1.75,
          2.33,
          1.17,
          2.14,
          1.86,
          1.18,
          2.0,
          2.33,
          1.3,
          2.33,
          2.0,
          1.86,
          1.62,
          2.67,
          1.0,
          2.0,
          2.67,
          2.17,
          2.12,
          1.3,
          1.09,
          1.67,
          2.5,
          1.89,
          2.43,
          1.75,
          1.38,
          2.0,
          2.5,
          2.43,
          2.43,
          1.69,
          1.27,
          1.44,
          2.67,
          2.0,
          1.78,
          1.7,
          1.3,
          2.0,
          2.29,
          1.25,
          2.4,
          1.08,
          2.17,
          2.67,
          1.0,
          1.0,
          1.0,
          1.71,
          1.57,
          2.43,
          2.0,
          1.0,
          2.0,
          2.0,
          3.2,
          2.17,
          2.0,
          4.75,
          1.0,
          2.5,
          1.83,
          1.71,
          1.7,
          1.71,
          2.17,
          2.5,
          1.21,
          1.56,
          1.17,
          2.0,
          1.27,
          2.5,
          2.14,
          2.43,
          1.44,
          1.5,
          2.12,
          1.09,
          1.0,
          2.14,
          1.27,
          1.07,
          1.0,
          2.2,
          1.78,
          2.11,
          1.5,
          1.0,
          1.3,
          2.71,
          2.5,
          2.5,
          1.58,
          1.15,
          1.33,
          2.0,
          2.2,
          2.0
         ],
         "yaxis": "y",
         "type": "scatter"
        },
        {
         "hovertemplate": "Variable=# Characters<br>index=%{x}<br>Values=%{y}<extra></extra>",
         "legendgroup": "# Characters",
         "line": {
          "color": "#ab63fa",
          "dash": "solid"
         },
         "marker": {
          "symbol": "circle"
         },
         "mode": "lines",
         "name": "# Characters",
         "orientation": "v",
         "showlegend": true,
         "x": [
          0,
          1,
          2,
          3,
          4,
          5,
          6,
          7,
          8,
          9,
          10,
          11,
          12,
          13,
          14,
          15,
          16,
          17,
          18,
          19,
          20,
          21,
          22,
          23,
          24,
          25,
          26,
          27,
          28,
          29,
          30,
          31,
          32,
          33,
          34,
          35,
          36,
          37,
          38,
          39,
          40,
          41,
          42,
          43,
          44,
          45,
          46,
          47,
          48,
          49,
          50,
          51,
          52,
          53,
          54,
          55,
          56,
          57,
          58,
          59,
          60,
          61,
          62,
          63,
          64,
          65,
          66,
          67,
          68,
          69,
          70,
          71,
          72,
          73,
          74,
          75,
          76,
          77,
          78,
          79,
          80,
          81,
          82,
          83,
          84,
          85,
          86,
          87,
          88,
          89,
          90,
          91,
          92,
          93,
          94,
          95,
          96,
          97,
          98,
          99,
          100,
          101,
          102,
          103,
          104,
          105,
          106,
          107,
          108,
          109,
          110,
          111,
          112,
          113
         ],
         "xaxis": "x",
         "y": [
          1750.0,
          1238.0,
          1419.0,
          1884.0,
          1762.0,
          1942.0,
          2187.0,
          1691.0,
          1885.0,
          2037.0,
          1847.0,
          1898.0,
          1921.0,
          2001.0,
          1621.0,
          2031.0,
          1852.0,
          1862.0,
          2074.0,
          1977.0,
          2006.0,
          1967.0,
          2026.0,
          2091.0,
          1957.0,
          1985.0,
          2107.0,
          1934.0,
          1917.0,
          1873.0,
          1874.0,
          1780.0,
          2080.0,
          2058.0,
          1839.0,
          2088.0,
          2051.0,
          3213.0,
          2884.0,
          1927.0,
          2067.0,
          2199.0,
          1894.0,
          2019.0,
          2023.0,
          1991.0,
          2061.0,
          2022.0,
          2065.0,
          1883.0,
          1969.0,
          2056.0,
          1288.0,
          1814.0,
          1843.0,
          2156.0,
          2013.0,
          1799.0,
          2012.0,
          2072.0,
          1888.0,
          1807.0,
          1928.0,
          2019.0,
          1679.0,
          1954.0,
          1951.0,
          1717.0,
          1433.0,
          1381.0,
          1776.0,
          1551.0,
          1432.0,
          2118.0,
          1816.0,
          2055.0,
          1722.0,
          2349.0,
          2151.0,
          1789.0,
          2084.0,
          2052.0,
          2243.0,
          1982.0,
          2316.0,
          2122.0,
          2286.0,
          1776.0,
          2085.0,
          2295.0,
          1785.0,
          2055.0,
          2183.0,
          1887.0,
          1445.0,
          2227.0,
          1934.0,
          2034.0,
          1928.0,
          1807.0,
          2036.0,
          2107.0,
          1957.0,
          2151.0,
          2025.0,
          2216.0,
          2577.0,
          1959.0,
          2077.0,
          2083.0,
          2207.0,
          2012.0,
          1260.0,
          1790.0
         ],
         "yaxis": "y",
         "type": "scatter"
        },
        {
         "hovertemplate": "Variable=# Tokens<br>index=%{x}<br>Values=%{y}<extra></extra>",
         "legendgroup": "# Tokens",
         "line": {
          "color": "#FFA15A",
          "dash": "solid"
         },
         "marker": {
          "symbol": "circle"
         },
         "mode": "lines",
         "name": "# Tokens",
         "orientation": "v",
         "showlegend": true,
         "x": [
          0,
          1,
          2,
          3,
          4,
          5,
          6,
          7,
          8,
          9,
          10,
          11,
          12,
          13,
          14,
          15,
          16,
          17,
          18,
          19,
          20,
          21,
          22,
          23,
          24,
          25,
          26,
          27,
          28,
          29,
          30,
          31,
          32,
          33,
          34,
          35,
          36,
          37,
          38,
          39,
          40,
          41,
          42,
          43,
          44,
          45,
          46,
          47,
          48,
          49,
          50,
          51,
          52,
          53,
          54,
          55,
          56,
          57,
          58,
          59,
          60,
          61,
          62,
          63,
          64,
          65,
          66,
          67,
          68,
          69,
          70,
          71,
          72,
          73,
          74,
          75,
          76,
          77,
          78,
          79,
          80,
          81,
          82,
          83,
          84,
          85,
          86,
          87,
          88,
          89,
          90,
          91,
          92,
          93,
          94,
          95,
          96,
          97,
          98,
          99,
          100,
          101,
          102,
          103,
          104,
          105,
          106,
          107,
          108,
          109,
          110,
          111,
          112,
          113
         ],
         "xaxis": "x",
         "y": [
          361.0,
          246.0,
          267.0,
          340.0,
          368.0,
          376.0,
          355.0,
          299.0,
          338.0,
          370.0,
          357.0,
          365.0,
          346.0,
          391.0,
          294.0,
          358.0,
          339.0,
          358.0,
          353.0,
          399.0,
          376.0,
          375.0,
          351.0,
          373.0,
          388.0,
          380.0,
          384.0,
          368.0,
          392.0,
          352.0,
          348.0,
          348.0,
          412.0,
          386.0,
          351.0,
          376.0,
          396.0,
          591.0,
          487.0,
          371.0,
          370.0,
          386.0,
          366.0,
          386.0,
          375.0,
          392.0,
          395.0,
          387.0,
          407.0,
          385.0,
          396.0,
          388.0,
          269.0,
          358.0,
          364.0,
          394.0,
          356.0,
          323.0,
          396.0,
          368.0,
          372.0,
          309.0,
          351.0,
          350.0,
          334.0,
          370.0,
          371.0,
          318.0,
          278.0,
          257.0,
          333.0,
          302.0,
          261.0,
          385.0,
          317.0,
          385.0,
          320.0,
          420.0,
          411.0,
          335.0,
          380.0,
          396.0,
          390.0,
          370.0,
          399.0,
          420.0,
          442.0,
          337.0,
          407.0,
          415.0,
          355.0,
          371.0,
          404.0,
          356.0,
          294.0,
          401.0,
          373.0,
          384.0,
          342.0,
          355.0,
          358.0,
          380.0,
          381.0,
          379.0,
          361.0,
          412.0,
          483.0,
          368.0,
          394.0,
          404.0,
          383.0,
          372.0,
          234.0,
          334.0
         ],
         "yaxis": "y",
         "type": "scatter"
        }
       ],
       "layout": {
        "template": {
         "data": {
          "histogram2dcontour": [
           {
            "type": "histogram2dcontour",
            "colorbar": {
             "outlinewidth": 0,
             "ticks": ""
            },
            "colorscale": [
             [
              0.0,
              "#0d0887"
             ],
             [
              0.1111111111111111,
              "#46039f"
             ],
             [
              0.2222222222222222,
              "#7201a8"
             ],
             [
              0.3333333333333333,
              "#9c179e"
             ],
             [
              0.4444444444444444,
              "#bd3786"
             ],
             [
              0.5555555555555556,
              "#d8576b"
             ],
             [
              0.6666666666666666,
              "#ed7953"
             ],
             [
              0.7777777777777778,
              "#fb9f3a"
             ],
             [
              0.8888888888888888,
              "#fdca26"
             ],
             [
              1.0,
              "#f0f921"
             ]
            ]
           }
          ],
          "choropleth": [
           {
            "type": "choropleth",
            "colorbar": {
             "outlinewidth": 0,
             "ticks": ""
            }
           }
          ],
          "histogram2d": [
           {
            "type": "histogram2d",
            "colorbar": {
             "outlinewidth": 0,
             "ticks": ""
            },
            "colorscale": [
             [
              0.0,
              "#0d0887"
             ],
             [
              0.1111111111111111,
              "#46039f"
             ],
             [
              0.2222222222222222,
              "#7201a8"
             ],
             [
              0.3333333333333333,
              "#9c179e"
             ],
             [
              0.4444444444444444,
              "#bd3786"
             ],
             [
              0.5555555555555556,
              "#d8576b"
             ],
             [
              0.6666666666666666,
              "#ed7953"
             ],
             [
              0.7777777777777778,
              "#fb9f3a"
             ],
             [
              0.8888888888888888,
              "#fdca26"
             ],
             [
              1.0,
              "#f0f921"
             ]
            ]
           }
          ],
          "heatmap": [
           {
            "type": "heatmap",
            "colorbar": {
             "outlinewidth": 0,
             "ticks": ""
            },
            "colorscale": [
             [
              0.0,
              "#0d0887"
             ],
             [
              0.1111111111111111,
              "#46039f"
             ],
             [
              0.2222222222222222,
              "#7201a8"
             ],
             [
              0.3333333333333333,
              "#9c179e"
             ],
             [
              0.4444444444444444,
              "#bd3786"
             ],
             [
              0.5555555555555556,
              "#d8576b"
             ],
             [
              0.6666666666666666,
              "#ed7953"
             ],
             [
              0.7777777777777778,
              "#fb9f3a"
             ],
             [
              0.8888888888888888,
              "#fdca26"
             ],
             [
              1.0,
              "#f0f921"
             ]
            ]
           }
          ],
          "heatmapgl": [
           {
            "type": "heatmapgl",
            "colorbar": {
             "outlinewidth": 0,
             "ticks": ""
            },
            "colorscale": [
             [
              0.0,
              "#0d0887"
             ],
             [
              0.1111111111111111,
              "#46039f"
             ],
             [
              0.2222222222222222,
              "#7201a8"
             ],
             [
              0.3333333333333333,
              "#9c179e"
             ],
             [
              0.4444444444444444,
              "#bd3786"
             ],
             [
              0.5555555555555556,
              "#d8576b"
             ],
             [
              0.6666666666666666,
              "#ed7953"
             ],
             [
              0.7777777777777778,
              "#fb9f3a"
             ],
             [
              0.8888888888888888,
              "#fdca26"
             ],
             [
              1.0,
              "#f0f921"
             ]
            ]
           }
          ],
          "contourcarpet": [
           {
            "type": "contourcarpet",
            "colorbar": {
             "outlinewidth": 0,
             "ticks": ""
            }
           }
          ],
          "contour": [
           {
            "type": "contour",
            "colorbar": {
             "outlinewidth": 0,
             "ticks": ""
            },
            "colorscale": [
             [
              0.0,
              "#0d0887"
             ],
             [
              0.1111111111111111,
              "#46039f"
             ],
             [
              0.2222222222222222,
              "#7201a8"
             ],
             [
              0.3333333333333333,
              "#9c179e"
             ],
             [
              0.4444444444444444,
              "#bd3786"
             ],
             [
              0.5555555555555556,
              "#d8576b"
             ],
             [
              0.6666666666666666,
              "#ed7953"
             ],
             [
              0.7777777777777778,
              "#fb9f3a"
             ],
             [
              0.8888888888888888,
              "#fdca26"
             ],
             [
              1.0,
              "#f0f921"
             ]
            ]
           }
          ],
          "surface": [
           {
            "type": "surface",
            "colorbar": {
             "outlinewidth": 0,
             "ticks": ""
            },
            "colorscale": [
             [
              0.0,
              "#0d0887"
             ],
             [
              0.1111111111111111,
              "#46039f"
             ],
             [
              0.2222222222222222,
              "#7201a8"
             ],
             [
              0.3333333333333333,
              "#9c179e"
             ],
             [
              0.4444444444444444,
              "#bd3786"
             ],
             [
              0.5555555555555556,
              "#d8576b"
             ],
             [
              0.6666666666666666,
              "#ed7953"
             ],
             [
              0.7777777777777778,
              "#fb9f3a"
             ],
             [
              0.8888888888888888,
              "#fdca26"
             ],
             [
              1.0,
              "#f0f921"
             ]
            ]
           }
          ],
          "mesh3d": [
           {
            "type": "mesh3d",
            "colorbar": {
             "outlinewidth": 0,
             "ticks": ""
            }
           }
          ],
          "scatter": [
           {
            "marker": {
             "line": {
              "color": "#283442"
             }
            },
            "type": "scatter"
           }
          ],
          "parcoords": [
           {
            "type": "parcoords",
            "line": {
             "colorbar": {
              "outlinewidth": 0,
              "ticks": ""
             }
            }
           }
          ],
          "scatterpolargl": [
           {
            "type": "scatterpolargl",
            "marker": {
             "colorbar": {
              "outlinewidth": 0,
              "ticks": ""
             }
            }
           }
          ],
          "bar": [
           {
            "error_x": {
             "color": "#f2f5fa"
            },
            "error_y": {
             "color": "#f2f5fa"
            },
            "marker": {
             "line": {
              "color": "rgb(17,17,17)",
              "width": 0.5
             },
             "pattern": {
              "fillmode": "overlay",
              "size": 10,
              "solidity": 0.2
             }
            },
            "type": "bar"
           }
          ],
          "scattergeo": [
           {
            "type": "scattergeo",
            "marker": {
             "colorbar": {
              "outlinewidth": 0,
              "ticks": ""
             }
            }
           }
          ],
          "scatterpolar": [
           {
            "type": "scatterpolar",
            "marker": {
             "colorbar": {
              "outlinewidth": 0,
              "ticks": ""
             }
            }
           }
          ],
          "histogram": [
           {
            "marker": {
             "pattern": {
              "fillmode": "overlay",
              "size": 10,
              "solidity": 0.2
             }
            },
            "type": "histogram"
           }
          ],
          "scattergl": [
           {
            "marker": {
             "line": {
              "color": "#283442"
             }
            },
            "type": "scattergl"
           }
          ],
          "scatter3d": [
           {
            "type": "scatter3d",
            "line": {
             "colorbar": {
              "outlinewidth": 0,
              "ticks": ""
             }
            },
            "marker": {
             "colorbar": {
              "outlinewidth": 0,
              "ticks": ""
             }
            }
           }
          ],
          "scattermapbox": [
           {
            "type": "scattermapbox",
            "marker": {
             "colorbar": {
              "outlinewidth": 0,
              "ticks": ""
             }
            }
           }
          ],
          "scatterternary": [
           {
            "type": "scatterternary",
            "marker": {
             "colorbar": {
              "outlinewidth": 0,
              "ticks": ""
             }
            }
           }
          ],
          "scattercarpet": [
           {
            "type": "scattercarpet",
            "marker": {
             "colorbar": {
              "outlinewidth": 0,
              "ticks": ""
             }
            }
           }
          ],
          "carpet": [
           {
            "aaxis": {
             "endlinecolor": "#A2B1C6",
             "gridcolor": "#506784",
             "linecolor": "#506784",
             "minorgridcolor": "#506784",
             "startlinecolor": "#A2B1C6"
            },
            "baxis": {
             "endlinecolor": "#A2B1C6",
             "gridcolor": "#506784",
             "linecolor": "#506784",
             "minorgridcolor": "#506784",
             "startlinecolor": "#A2B1C6"
            },
            "type": "carpet"
           }
          ],
          "table": [
           {
            "cells": {
             "fill": {
              "color": "#506784"
             },
             "line": {
              "color": "rgb(17,17,17)"
             }
            },
            "header": {
             "fill": {
              "color": "#2a3f5f"
             },
             "line": {
              "color": "rgb(17,17,17)"
             }
            },
            "type": "table"
           }
          ],
          "barpolar": [
           {
            "marker": {
             "line": {
              "color": "rgb(17,17,17)",
              "width": 0.5
             },
             "pattern": {
              "fillmode": "overlay",
              "size": 10,
              "solidity": 0.2
             }
            },
            "type": "barpolar"
           }
          ],
          "pie": [
           {
            "automargin": true,
            "type": "pie"
           }
          ]
         },
         "layout": {
          "autotypenumbers": "strict",
          "colorway": [
           "#636efa",
           "#EF553B",
           "#00cc96",
           "#ab63fa",
           "#FFA15A",
           "#19d3f3",
           "#FF6692",
           "#B6E880",
           "#FF97FF",
           "#FECB52"
          ],
          "font": {
           "color": "#f2f5fa"
          },
          "hovermode": "closest",
          "hoverlabel": {
           "align": "left"
          },
          "paper_bgcolor": "rgb(17,17,17)",
          "plot_bgcolor": "rgb(17,17,17)",
          "polar": {
           "bgcolor": "rgb(17,17,17)",
           "angularaxis": {
            "gridcolor": "#506784",
            "linecolor": "#506784",
            "ticks": ""
           },
           "radialaxis": {
            "gridcolor": "#506784",
            "linecolor": "#506784",
            "ticks": ""
           }
          },
          "ternary": {
           "bgcolor": "rgb(17,17,17)",
           "aaxis": {
            "gridcolor": "#506784",
            "linecolor": "#506784",
            "ticks": ""
           },
           "baxis": {
            "gridcolor": "#506784",
            "linecolor": "#506784",
            "ticks": ""
           },
           "caxis": {
            "gridcolor": "#506784",
            "linecolor": "#506784",
            "ticks": ""
           }
          },
          "coloraxis": {
           "colorbar": {
            "outlinewidth": 0,
            "ticks": ""
           }
          },
          "colorscale": {
           "sequential": [
            [
             0.0,
             "#0d0887"
            ],
            [
             0.1111111111111111,
             "#46039f"
            ],
            [
             0.2222222222222222,
             "#7201a8"
            ],
            [
             0.3333333333333333,
             "#9c179e"
            ],
            [
             0.4444444444444444,
             "#bd3786"
            ],
            [
             0.5555555555555556,
             "#d8576b"
            ],
            [
             0.6666666666666666,
             "#ed7953"
            ],
            [
             0.7777777777777778,
             "#fb9f3a"
            ],
            [
             0.8888888888888888,
             "#fdca26"
            ],
            [
             1.0,
             "#f0f921"
            ]
           ],
           "sequentialminus": [
            [
             0.0,
             "#0d0887"
            ],
            [
             0.1111111111111111,
             "#46039f"
            ],
            [
             0.2222222222222222,
             "#7201a8"
            ],
            [
             0.3333333333333333,
             "#9c179e"
            ],
            [
             0.4444444444444444,
             "#bd3786"
            ],
            [
             0.5555555555555556,
             "#d8576b"
            ],
            [
             0.6666666666666666,
             "#ed7953"
            ],
            [
             0.7777777777777778,
             "#fb9f3a"
            ],
            [
             0.8888888888888888,
             "#fdca26"
            ],
            [
             1.0,
             "#f0f921"
            ]
           ],
           "diverging": [
            [
             0,
             "#8e0152"
            ],
            [
             0.1,
             "#c51b7d"
            ],
            [
             0.2,
             "#de77ae"
            ],
            [
             0.3,
             "#f1b6da"
            ],
            [
             0.4,
             "#fde0ef"
            ],
            [
             0.5,
             "#f7f7f7"
            ],
            [
             0.6,
             "#e6f5d0"
            ],
            [
             0.7,
             "#b8e186"
            ],
            [
             0.8,
             "#7fbc41"
            ],
            [
             0.9,
             "#4d9221"
            ],
            [
             1,
             "#276419"
            ]
           ]
          },
          "xaxis": {
           "gridcolor": "#283442",
           "linecolor": "#506784",
           "ticks": "",
           "title": {
            "standoff": 15
           },
           "zerolinecolor": "#283442",
           "automargin": true,
           "zerolinewidth": 2
          },
          "yaxis": {
           "gridcolor": "#283442",
           "linecolor": "#506784",
           "ticks": "",
           "title": {
            "standoff": 15
           },
           "zerolinecolor": "#283442",
           "automargin": true,
           "zerolinewidth": 2
          },
          "scene": {
           "xaxis": {
            "backgroundcolor": "rgb(17,17,17)",
            "gridcolor": "#506784",
            "linecolor": "#506784",
            "showbackground": true,
            "ticks": "",
            "zerolinecolor": "#C8D4E3",
            "gridwidth": 2
           },
           "yaxis": {
            "backgroundcolor": "rgb(17,17,17)",
            "gridcolor": "#506784",
            "linecolor": "#506784",
            "showbackground": true,
            "ticks": "",
            "zerolinecolor": "#C8D4E3",
            "gridwidth": 2
           },
           "zaxis": {
            "backgroundcolor": "rgb(17,17,17)",
            "gridcolor": "#506784",
            "linecolor": "#506784",
            "showbackground": true,
            "ticks": "",
            "zerolinecolor": "#C8D4E3",
            "gridwidth": 2
           }
          },
          "shapedefaults": {
           "line": {
            "color": "#f2f5fa"
           }
          },
          "annotationdefaults": {
           "arrowcolor": "#f2f5fa",
           "arrowhead": 0,
           "arrowwidth": 1
          },
          "geo": {
           "bgcolor": "rgb(17,17,17)",
           "landcolor": "rgb(17,17,17)",
           "subunitcolor": "#506784",
           "showland": true,
           "showlakes": true,
           "lakecolor": "rgb(17,17,17)"
          },
          "title": {
           "x": 0.05
          },
          "updatemenudefaults": {
           "bgcolor": "#506784",
           "borderwidth": 0
          },
          "sliderdefaults": {
           "bgcolor": "#C8D4E3",
           "borderwidth": 1,
           "bordercolor": "rgb(17,17,17)",
           "tickwidth": 0
          },
          "mapbox": {
           "style": "dark"
          }
         }
        },
        "xaxis": {
         "anchor": "y",
         "domain": [
          0.0,
          1.0
         ],
         "title": {
          "text": "index"
         }
        },
        "yaxis": {
         "anchor": "x",
         "domain": [
          0.0,
          1.0
         ],
         "title": {
          "text": "Values"
         }
        },
        "legend": {
         "title": {
          "text": "Variable"
         },
         "tracegroupgap": 0
        },
        "title": {
         "text": "Line chart variables"
        }
       },
       "config": {
        "plotlyServerURL": "https://plot.ly"
       }
      },
      "text/html": "<div>                            <div id=\"b6312a38-7d6d-4ef3-8146-19045f2e5c6e\" class=\"plotly-graph-div\" style=\"height:525px; width:100%;\"></div>            <script type=\"text/javascript\">                require([\"plotly\"], function(Plotly) {                    window.PLOTLYENV=window.PLOTLYENV || {};                                    if (document.getElementById(\"b6312a38-7d6d-4ef3-8146-19045f2e5c6e\")) {                    Plotly.newPlot(                        \"b6312a38-7d6d-4ef3-8146-19045f2e5c6e\",                        [{\"hovertemplate\":\"Variable=Jaccard\\u003cbr\\u003eindex=%{x}\\u003cbr\\u003eValues=%{y}\\u003cextra\\u003e\\u003c\\u002fextra\\u003e\",\"legendgroup\":\"Jaccard\",\"line\":{\"color\":\"#636efa\",\"dash\":\"solid\"},\"marker\":{\"symbol\":\"circle\"},\"mode\":\"lines\",\"name\":\"Jaccard\",\"orientation\":\"v\",\"showlegend\":true,\"x\":[0,1,2,3,4,5,6,7,8,9,10,11,12,13,14,15,16,17,18,19,20,21,22,23,24,25,26,27,28,29,30,31,32,33,34,35,36,37,38,39,40,41,42,43,44,45,46,47,48,49,50,51,52,53,54,55,56,57,58,59,60,61,62,63,64,65,66,67,68,69,70,71,72,73,74,75,76,77,78,79,80,81,82,83,84,85,86,87,88,89,90,91,92,93,94,95,96,97,98,99,100,101,102,103,104,105,106,107,108,109,110,111,112,113],\"xaxis\":\"x\",\"y\":[0.98,0.95,1.0,1.0,1.0,1.0,0.99,0.88,1.0,1.0,0.95,0.99,1.0,1.0,1.0,1.0,1.0,0.97,0.99,1.0,1.0,1.0,1.0,1.0,1.0,1.0,0.99,1.0,1.0,1.0,1.0,1.0,1.0,1.0,0.96,1.0,1.0,1.0,1.0,0.97,1.0,1.0,1.0,1.0,0.99,1.0,0.93,1.0,1.0,0.97,1.0,1.0,0.99,0.94,1.0,1.0,0.98,1.0,0.99,1.0,0.99,1.0,1.0,1.0,1.0,0.99,0.98,1.0,0.99,0.98,0.99,1.0,0.91,0.97,1.0,1.0,0.86,1.0,1.0,1.0,1.0,1.0,1.0,1.0,1.0,0.99,1.0,0.91,1.0,0.99,1.0,1.0,1.0,1.0,1.0,1.0,1.0,1.0,1.0,1.0,0.93,1.0,1.0,0.98,1.0,0.99,1.0,1.0,0.95,1.0,1.0,0.99,1.0,0.89],\"yaxis\":\"y\",\"type\":\"scatter\"},{\"hovertemplate\":\"Variable=# Paragraphs\\u003cbr\\u003eindex=%{x}\\u003cbr\\u003eValues=%{y}\\u003cextra\\u003e\\u003c\\u002fextra\\u003e\",\"legendgroup\":\"# Paragraphs\",\"line\":{\"color\":\"#EF553B\",\"dash\":\"solid\"},\"marker\":{\"symbol\":\"circle\"},\"mode\":\"lines\",\"name\":\"# Paragraphs\",\"orientation\":\"v\",\"showlegend\":true,\"x\":[0,1,2,3,4,5,6,7,8,9,10,11,12,13,14,15,16,17,18,19,20,21,22,23,24,25,26,27,28,29,30,31,32,33,34,35,36,37,38,39,40,41,42,43,44,45,46,47,48,49,50,51,52,53,54,55,56,57,58,59,60,61,62,63,64,65,66,67,68,69,70,71,72,73,74,75,76,77,78,79,80,81,82,83,84,85,86,87,88,89,90,91,92,93,94,95,96,97,98,99,100,101,102,103,104,105,106,107,108,109,110,111,112,113],\"xaxis\":\"x\",\"y\":[5.0,4.0,5.0,10.0,8.0,8.0,7.0,6.0,10.0,12.0,13.0,8.0,5.0,6.0,8.0,6.0,6.0,7.0,7.0,11.0,8.0,6.0,10.0,6.0,7.0,7.0,8.0,6.0,9.0,6.0,6.0,6.0,8.0,10.0,11.0,9.0,6.0,9.0,7.0,8.0,13.0,7.0,6.0,7.0,7.0,13.0,11.0,9.0,6.0,6.0,9.0,10.0,10.0,5.0,7.0,12.0,5.0,13.0,6.0,6.0,11.0,9.0,13.0,7.0,7.0,7.0,6.0,12.0,5.0,5.0,5.0,6.0,5.0,4.0,11.0,6.0,6.0,7.0,10.0,7.0,6.0,6.0,14.0,9.0,12.0,9.0,11.0,4.0,7.0,7.0,9.0,6.0,8.0,11.0,16.0,7.0,11.0,14.0,14.0,5.0,9.0,9.0,8.0,17.0,10.0,7.0,10.0,6.0,12.0,13.0,9.0,6.0,5.0,6.0],\"yaxis\":\"y\",\"type\":\"scatter\"},{\"hovertemplate\":\"Variable=Avg sentences\\u003cbr\\u003eindex=%{x}\\u003cbr\\u003eValues=%{y}\\u003cextra\\u003e\\u003c\\u002fextra\\u003e\",\"legendgroup\":\"Avg sentences\",\"line\":{\"color\":\"#00cc96\",\"dash\":\"solid\"},\"marker\":{\"symbol\":\"circle\"},\"mode\":\"lines\",\"name\":\"Avg sentences\",\"orientation\":\"v\",\"showlegend\":true,\"x\":[0,1,2,3,4,5,6,7,8,9,10,11,12,13,14,15,16,17,18,19,20,21,22,23,24,25,26,27,28,29,30,31,32,33,34,35,36,37,38,39,40,41,42,43,44,45,46,47,48,49,50,51,52,53,54,55,56,57,58,59,60,61,62,63,64,65,66,67,68,69,70,71,72,73,74,75,76,77,78,79,80,81,82,83,84,85,86,87,88,89,90,91,92,93,94,95,96,97,98,99,100,101,102,103,104,105,106,107,108,109,110,111,112,113],\"xaxis\":\"x\",\"y\":[2.4,1.25,2.2,1.5,1.75,2.0,2.14,2.0,1.3,1.08,1.08,1.62,3.0,2.83,1.75,2.33,1.17,2.14,1.86,1.18,2.0,2.33,1.3,2.33,2.0,1.86,1.62,2.67,1.0,2.0,2.67,2.17,2.12,1.3,1.09,1.67,2.5,1.89,2.43,1.75,1.38,2.0,2.5,2.43,2.43,1.69,1.27,1.44,2.67,2.0,1.78,1.7,1.3,2.0,2.29,1.25,2.4,1.08,2.17,2.67,1.0,1.0,1.0,1.71,1.57,2.43,2.0,1.0,2.0,2.0,3.2,2.17,2.0,4.75,1.0,2.5,1.83,1.71,1.7,1.71,2.17,2.5,1.21,1.56,1.17,2.0,1.27,2.5,2.14,2.43,1.44,1.5,2.12,1.09,1.0,2.14,1.27,1.07,1.0,2.2,1.78,2.11,1.5,1.0,1.3,2.71,2.5,2.5,1.58,1.15,1.33,2.0,2.2,2.0],\"yaxis\":\"y\",\"type\":\"scatter\"},{\"hovertemplate\":\"Variable=# Characters\\u003cbr\\u003eindex=%{x}\\u003cbr\\u003eValues=%{y}\\u003cextra\\u003e\\u003c\\u002fextra\\u003e\",\"legendgroup\":\"# Characters\",\"line\":{\"color\":\"#ab63fa\",\"dash\":\"solid\"},\"marker\":{\"symbol\":\"circle\"},\"mode\":\"lines\",\"name\":\"# Characters\",\"orientation\":\"v\",\"showlegend\":true,\"x\":[0,1,2,3,4,5,6,7,8,9,10,11,12,13,14,15,16,17,18,19,20,21,22,23,24,25,26,27,28,29,30,31,32,33,34,35,36,37,38,39,40,41,42,43,44,45,46,47,48,49,50,51,52,53,54,55,56,57,58,59,60,61,62,63,64,65,66,67,68,69,70,71,72,73,74,75,76,77,78,79,80,81,82,83,84,85,86,87,88,89,90,91,92,93,94,95,96,97,98,99,100,101,102,103,104,105,106,107,108,109,110,111,112,113],\"xaxis\":\"x\",\"y\":[1750.0,1238.0,1419.0,1884.0,1762.0,1942.0,2187.0,1691.0,1885.0,2037.0,1847.0,1898.0,1921.0,2001.0,1621.0,2031.0,1852.0,1862.0,2074.0,1977.0,2006.0,1967.0,2026.0,2091.0,1957.0,1985.0,2107.0,1934.0,1917.0,1873.0,1874.0,1780.0,2080.0,2058.0,1839.0,2088.0,2051.0,3213.0,2884.0,1927.0,2067.0,2199.0,1894.0,2019.0,2023.0,1991.0,2061.0,2022.0,2065.0,1883.0,1969.0,2056.0,1288.0,1814.0,1843.0,2156.0,2013.0,1799.0,2012.0,2072.0,1888.0,1807.0,1928.0,2019.0,1679.0,1954.0,1951.0,1717.0,1433.0,1381.0,1776.0,1551.0,1432.0,2118.0,1816.0,2055.0,1722.0,2349.0,2151.0,1789.0,2084.0,2052.0,2243.0,1982.0,2316.0,2122.0,2286.0,1776.0,2085.0,2295.0,1785.0,2055.0,2183.0,1887.0,1445.0,2227.0,1934.0,2034.0,1928.0,1807.0,2036.0,2107.0,1957.0,2151.0,2025.0,2216.0,2577.0,1959.0,2077.0,2083.0,2207.0,2012.0,1260.0,1790.0],\"yaxis\":\"y\",\"type\":\"scatter\"},{\"hovertemplate\":\"Variable=# Tokens\\u003cbr\\u003eindex=%{x}\\u003cbr\\u003eValues=%{y}\\u003cextra\\u003e\\u003c\\u002fextra\\u003e\",\"legendgroup\":\"# Tokens\",\"line\":{\"color\":\"#FFA15A\",\"dash\":\"solid\"},\"marker\":{\"symbol\":\"circle\"},\"mode\":\"lines\",\"name\":\"# Tokens\",\"orientation\":\"v\",\"showlegend\":true,\"x\":[0,1,2,3,4,5,6,7,8,9,10,11,12,13,14,15,16,17,18,19,20,21,22,23,24,25,26,27,28,29,30,31,32,33,34,35,36,37,38,39,40,41,42,43,44,45,46,47,48,49,50,51,52,53,54,55,56,57,58,59,60,61,62,63,64,65,66,67,68,69,70,71,72,73,74,75,76,77,78,79,80,81,82,83,84,85,86,87,88,89,90,91,92,93,94,95,96,97,98,99,100,101,102,103,104,105,106,107,108,109,110,111,112,113],\"xaxis\":\"x\",\"y\":[361.0,246.0,267.0,340.0,368.0,376.0,355.0,299.0,338.0,370.0,357.0,365.0,346.0,391.0,294.0,358.0,339.0,358.0,353.0,399.0,376.0,375.0,351.0,373.0,388.0,380.0,384.0,368.0,392.0,352.0,348.0,348.0,412.0,386.0,351.0,376.0,396.0,591.0,487.0,371.0,370.0,386.0,366.0,386.0,375.0,392.0,395.0,387.0,407.0,385.0,396.0,388.0,269.0,358.0,364.0,394.0,356.0,323.0,396.0,368.0,372.0,309.0,351.0,350.0,334.0,370.0,371.0,318.0,278.0,257.0,333.0,302.0,261.0,385.0,317.0,385.0,320.0,420.0,411.0,335.0,380.0,396.0,390.0,370.0,399.0,420.0,442.0,337.0,407.0,415.0,355.0,371.0,404.0,356.0,294.0,401.0,373.0,384.0,342.0,355.0,358.0,380.0,381.0,379.0,361.0,412.0,483.0,368.0,394.0,404.0,383.0,372.0,234.0,334.0],\"yaxis\":\"y\",\"type\":\"scatter\"}],                        {\"template\":{\"data\":{\"histogram2dcontour\":[{\"type\":\"histogram2dcontour\",\"colorbar\":{\"outlinewidth\":0,\"ticks\":\"\"},\"colorscale\":[[0.0,\"#0d0887\"],[0.1111111111111111,\"#46039f\"],[0.2222222222222222,\"#7201a8\"],[0.3333333333333333,\"#9c179e\"],[0.4444444444444444,\"#bd3786\"],[0.5555555555555556,\"#d8576b\"],[0.6666666666666666,\"#ed7953\"],[0.7777777777777778,\"#fb9f3a\"],[0.8888888888888888,\"#fdca26\"],[1.0,\"#f0f921\"]]}],\"choropleth\":[{\"type\":\"choropleth\",\"colorbar\":{\"outlinewidth\":0,\"ticks\":\"\"}}],\"histogram2d\":[{\"type\":\"histogram2d\",\"colorbar\":{\"outlinewidth\":0,\"ticks\":\"\"},\"colorscale\":[[0.0,\"#0d0887\"],[0.1111111111111111,\"#46039f\"],[0.2222222222222222,\"#7201a8\"],[0.3333333333333333,\"#9c179e\"],[0.4444444444444444,\"#bd3786\"],[0.5555555555555556,\"#d8576b\"],[0.6666666666666666,\"#ed7953\"],[0.7777777777777778,\"#fb9f3a\"],[0.8888888888888888,\"#fdca26\"],[1.0,\"#f0f921\"]]}],\"heatmap\":[{\"type\":\"heatmap\",\"colorbar\":{\"outlinewidth\":0,\"ticks\":\"\"},\"colorscale\":[[0.0,\"#0d0887\"],[0.1111111111111111,\"#46039f\"],[0.2222222222222222,\"#7201a8\"],[0.3333333333333333,\"#9c179e\"],[0.4444444444444444,\"#bd3786\"],[0.5555555555555556,\"#d8576b\"],[0.6666666666666666,\"#ed7953\"],[0.7777777777777778,\"#fb9f3a\"],[0.8888888888888888,\"#fdca26\"],[1.0,\"#f0f921\"]]}],\"heatmapgl\":[{\"type\":\"heatmapgl\",\"colorbar\":{\"outlinewidth\":0,\"ticks\":\"\"},\"colorscale\":[[0.0,\"#0d0887\"],[0.1111111111111111,\"#46039f\"],[0.2222222222222222,\"#7201a8\"],[0.3333333333333333,\"#9c179e\"],[0.4444444444444444,\"#bd3786\"],[0.5555555555555556,\"#d8576b\"],[0.6666666666666666,\"#ed7953\"],[0.7777777777777778,\"#fb9f3a\"],[0.8888888888888888,\"#fdca26\"],[1.0,\"#f0f921\"]]}],\"contourcarpet\":[{\"type\":\"contourcarpet\",\"colorbar\":{\"outlinewidth\":0,\"ticks\":\"\"}}],\"contour\":[{\"type\":\"contour\",\"colorbar\":{\"outlinewidth\":0,\"ticks\":\"\"},\"colorscale\":[[0.0,\"#0d0887\"],[0.1111111111111111,\"#46039f\"],[0.2222222222222222,\"#7201a8\"],[0.3333333333333333,\"#9c179e\"],[0.4444444444444444,\"#bd3786\"],[0.5555555555555556,\"#d8576b\"],[0.6666666666666666,\"#ed7953\"],[0.7777777777777778,\"#fb9f3a\"],[0.8888888888888888,\"#fdca26\"],[1.0,\"#f0f921\"]]}],\"surface\":[{\"type\":\"surface\",\"colorbar\":{\"outlinewidth\":0,\"ticks\":\"\"},\"colorscale\":[[0.0,\"#0d0887\"],[0.1111111111111111,\"#46039f\"],[0.2222222222222222,\"#7201a8\"],[0.3333333333333333,\"#9c179e\"],[0.4444444444444444,\"#bd3786\"],[0.5555555555555556,\"#d8576b\"],[0.6666666666666666,\"#ed7953\"],[0.7777777777777778,\"#fb9f3a\"],[0.8888888888888888,\"#fdca26\"],[1.0,\"#f0f921\"]]}],\"mesh3d\":[{\"type\":\"mesh3d\",\"colorbar\":{\"outlinewidth\":0,\"ticks\":\"\"}}],\"scatter\":[{\"marker\":{\"line\":{\"color\":\"#283442\"}},\"type\":\"scatter\"}],\"parcoords\":[{\"type\":\"parcoords\",\"line\":{\"colorbar\":{\"outlinewidth\":0,\"ticks\":\"\"}}}],\"scatterpolargl\":[{\"type\":\"scatterpolargl\",\"marker\":{\"colorbar\":{\"outlinewidth\":0,\"ticks\":\"\"}}}],\"bar\":[{\"error_x\":{\"color\":\"#f2f5fa\"},\"error_y\":{\"color\":\"#f2f5fa\"},\"marker\":{\"line\":{\"color\":\"rgb(17,17,17)\",\"width\":0.5},\"pattern\":{\"fillmode\":\"overlay\",\"size\":10,\"solidity\":0.2}},\"type\":\"bar\"}],\"scattergeo\":[{\"type\":\"scattergeo\",\"marker\":{\"colorbar\":{\"outlinewidth\":0,\"ticks\":\"\"}}}],\"scatterpolar\":[{\"type\":\"scatterpolar\",\"marker\":{\"colorbar\":{\"outlinewidth\":0,\"ticks\":\"\"}}}],\"histogram\":[{\"marker\":{\"pattern\":{\"fillmode\":\"overlay\",\"size\":10,\"solidity\":0.2}},\"type\":\"histogram\"}],\"scattergl\":[{\"marker\":{\"line\":{\"color\":\"#283442\"}},\"type\":\"scattergl\"}],\"scatter3d\":[{\"type\":\"scatter3d\",\"line\":{\"colorbar\":{\"outlinewidth\":0,\"ticks\":\"\"}},\"marker\":{\"colorbar\":{\"outlinewidth\":0,\"ticks\":\"\"}}}],\"scattermapbox\":[{\"type\":\"scattermapbox\",\"marker\":{\"colorbar\":{\"outlinewidth\":0,\"ticks\":\"\"}}}],\"scatterternary\":[{\"type\":\"scatterternary\",\"marker\":{\"colorbar\":{\"outlinewidth\":0,\"ticks\":\"\"}}}],\"scattercarpet\":[{\"type\":\"scattercarpet\",\"marker\":{\"colorbar\":{\"outlinewidth\":0,\"ticks\":\"\"}}}],\"carpet\":[{\"aaxis\":{\"endlinecolor\":\"#A2B1C6\",\"gridcolor\":\"#506784\",\"linecolor\":\"#506784\",\"minorgridcolor\":\"#506784\",\"startlinecolor\":\"#A2B1C6\"},\"baxis\":{\"endlinecolor\":\"#A2B1C6\",\"gridcolor\":\"#506784\",\"linecolor\":\"#506784\",\"minorgridcolor\":\"#506784\",\"startlinecolor\":\"#A2B1C6\"},\"type\":\"carpet\"}],\"table\":[{\"cells\":{\"fill\":{\"color\":\"#506784\"},\"line\":{\"color\":\"rgb(17,17,17)\"}},\"header\":{\"fill\":{\"color\":\"#2a3f5f\"},\"line\":{\"color\":\"rgb(17,17,17)\"}},\"type\":\"table\"}],\"barpolar\":[{\"marker\":{\"line\":{\"color\":\"rgb(17,17,17)\",\"width\":0.5},\"pattern\":{\"fillmode\":\"overlay\",\"size\":10,\"solidity\":0.2}},\"type\":\"barpolar\"}],\"pie\":[{\"automargin\":true,\"type\":\"pie\"}]},\"layout\":{\"autotypenumbers\":\"strict\",\"colorway\":[\"#636efa\",\"#EF553B\",\"#00cc96\",\"#ab63fa\",\"#FFA15A\",\"#19d3f3\",\"#FF6692\",\"#B6E880\",\"#FF97FF\",\"#FECB52\"],\"font\":{\"color\":\"#f2f5fa\"},\"hovermode\":\"closest\",\"hoverlabel\":{\"align\":\"left\"},\"paper_bgcolor\":\"rgb(17,17,17)\",\"plot_bgcolor\":\"rgb(17,17,17)\",\"polar\":{\"bgcolor\":\"rgb(17,17,17)\",\"angularaxis\":{\"gridcolor\":\"#506784\",\"linecolor\":\"#506784\",\"ticks\":\"\"},\"radialaxis\":{\"gridcolor\":\"#506784\",\"linecolor\":\"#506784\",\"ticks\":\"\"}},\"ternary\":{\"bgcolor\":\"rgb(17,17,17)\",\"aaxis\":{\"gridcolor\":\"#506784\",\"linecolor\":\"#506784\",\"ticks\":\"\"},\"baxis\":{\"gridcolor\":\"#506784\",\"linecolor\":\"#506784\",\"ticks\":\"\"},\"caxis\":{\"gridcolor\":\"#506784\",\"linecolor\":\"#506784\",\"ticks\":\"\"}},\"coloraxis\":{\"colorbar\":{\"outlinewidth\":0,\"ticks\":\"\"}},\"colorscale\":{\"sequential\":[[0.0,\"#0d0887\"],[0.1111111111111111,\"#46039f\"],[0.2222222222222222,\"#7201a8\"],[0.3333333333333333,\"#9c179e\"],[0.4444444444444444,\"#bd3786\"],[0.5555555555555556,\"#d8576b\"],[0.6666666666666666,\"#ed7953\"],[0.7777777777777778,\"#fb9f3a\"],[0.8888888888888888,\"#fdca26\"],[1.0,\"#f0f921\"]],\"sequentialminus\":[[0.0,\"#0d0887\"],[0.1111111111111111,\"#46039f\"],[0.2222222222222222,\"#7201a8\"],[0.3333333333333333,\"#9c179e\"],[0.4444444444444444,\"#bd3786\"],[0.5555555555555556,\"#d8576b\"],[0.6666666666666666,\"#ed7953\"],[0.7777777777777778,\"#fb9f3a\"],[0.8888888888888888,\"#fdca26\"],[1.0,\"#f0f921\"]],\"diverging\":[[0,\"#8e0152\"],[0.1,\"#c51b7d\"],[0.2,\"#de77ae\"],[0.3,\"#f1b6da\"],[0.4,\"#fde0ef\"],[0.5,\"#f7f7f7\"],[0.6,\"#e6f5d0\"],[0.7,\"#b8e186\"],[0.8,\"#7fbc41\"],[0.9,\"#4d9221\"],[1,\"#276419\"]]},\"xaxis\":{\"gridcolor\":\"#283442\",\"linecolor\":\"#506784\",\"ticks\":\"\",\"title\":{\"standoff\":15},\"zerolinecolor\":\"#283442\",\"automargin\":true,\"zerolinewidth\":2},\"yaxis\":{\"gridcolor\":\"#283442\",\"linecolor\":\"#506784\",\"ticks\":\"\",\"title\":{\"standoff\":15},\"zerolinecolor\":\"#283442\",\"automargin\":true,\"zerolinewidth\":2},\"scene\":{\"xaxis\":{\"backgroundcolor\":\"rgb(17,17,17)\",\"gridcolor\":\"#506784\",\"linecolor\":\"#506784\",\"showbackground\":true,\"ticks\":\"\",\"zerolinecolor\":\"#C8D4E3\",\"gridwidth\":2},\"yaxis\":{\"backgroundcolor\":\"rgb(17,17,17)\",\"gridcolor\":\"#506784\",\"linecolor\":\"#506784\",\"showbackground\":true,\"ticks\":\"\",\"zerolinecolor\":\"#C8D4E3\",\"gridwidth\":2},\"zaxis\":{\"backgroundcolor\":\"rgb(17,17,17)\",\"gridcolor\":\"#506784\",\"linecolor\":\"#506784\",\"showbackground\":true,\"ticks\":\"\",\"zerolinecolor\":\"#C8D4E3\",\"gridwidth\":2}},\"shapedefaults\":{\"line\":{\"color\":\"#f2f5fa\"}},\"annotationdefaults\":{\"arrowcolor\":\"#f2f5fa\",\"arrowhead\":0,\"arrowwidth\":1},\"geo\":{\"bgcolor\":\"rgb(17,17,17)\",\"landcolor\":\"rgb(17,17,17)\",\"subunitcolor\":\"#506784\",\"showland\":true,\"showlakes\":true,\"lakecolor\":\"rgb(17,17,17)\"},\"title\":{\"x\":0.05},\"updatemenudefaults\":{\"bgcolor\":\"#506784\",\"borderwidth\":0},\"sliderdefaults\":{\"bgcolor\":\"#C8D4E3\",\"borderwidth\":1,\"bordercolor\":\"rgb(17,17,17)\",\"tickwidth\":0},\"mapbox\":{\"style\":\"dark\"}}},\"xaxis\":{\"anchor\":\"y\",\"domain\":[0.0,1.0],\"title\":{\"text\":\"index\"}},\"yaxis\":{\"anchor\":\"x\",\"domain\":[0.0,1.0],\"title\":{\"text\":\"Values\"}},\"legend\":{\"title\":{\"text\":\"Variable\"},\"tracegroupgap\":0},\"title\":{\"text\":\"Line chart variables\"}},                        {\"responsive\": true}                    ).then(function(){\n                            \nvar gd = document.getElementById('b6312a38-7d6d-4ef3-8146-19045f2e5c6e');\nvar x = new MutationObserver(function (mutations, observer) {{\n        var display = window.getComputedStyle(gd).display;\n        if (!display || display === 'none') {{\n            console.log([gd, 'removed!']);\n            Plotly.purge(gd);\n            observer.disconnect();\n        }}\n}});\n\n// Listen for the removal of the full notebook cells\nvar notebookContainer = gd.closest('#notebook-container');\nif (notebookContainer) {{\n    x.observe(notebookContainer, {childList: true});\n}}\n\n// Listen for the clearing of the current output cell\nvar outputEl = gd.closest('.output');\nif (outputEl) {{\n    x.observe(outputEl, {childList: true});\n}}\n\n                        })                };                });            </script>        </div>"
     },
     "metadata": {},
     "output_type": "display_data"
    }
   ],
   "source": [
    "import plotly.express as px\n",
    "\n",
    "# interactive version of graphs\n",
    "data = pd.read_csv('results-' + suffix + '.csv')\n",
    "\n",
    "# Creating interactive graphs with plotly\n",
    "fig = px.line(data, x=data.index, y=['Jaccard', '# Paragraphs', 'Avg sentences', '# Characters', '# Tokens'],\n",
    "              labels={'value': 'Values', 'variable': 'Variable'},\n",
    "              title='Line chart variables')\n",
    "\n",
    "fig.show()"
   ]
  },
  {
   "cell_type": "code",
   "execution_count": 31,
   "id": "4eb537c0",
   "metadata": {
    "ExecuteTime": {
     "end_time": "2024-03-07T13:41:23.957737Z",
     "start_time": "2024-03-07T13:41:23.945734Z"
    }
   },
   "outputs": [
    {
     "data": {
      "application/vnd.plotly.v1+json": {
       "data": [
        {
         "mode": "lines+markers",
         "name": "llama",
         "x": [
          0,
          1,
          2,
          3,
          4,
          5,
          6,
          7,
          8,
          9,
          10,
          11,
          12,
          13,
          14,
          15,
          16,
          17,
          18,
          19,
          20,
          21,
          22,
          23,
          24,
          25,
          26,
          27,
          28,
          29,
          30,
          31,
          32,
          33,
          34,
          35,
          36,
          37,
          38,
          39,
          40,
          41,
          42,
          43,
          44,
          45,
          46,
          47,
          48,
          49,
          50,
          51,
          52,
          53,
          54,
          55,
          56,
          57,
          58,
          59,
          60,
          61,
          62,
          63,
          64,
          65,
          66,
          67,
          68,
          69,
          70,
          71,
          72,
          73,
          74,
          75,
          76,
          77,
          78,
          79,
          80,
          81,
          82,
          83,
          84,
          85,
          86,
          87,
          88,
          89,
          90,
          91,
          92,
          93,
          94,
          95,
          96,
          97,
          98,
          99,
          100,
          101,
          102,
          103,
          104,
          105,
          106,
          107,
          108,
          109,
          110,
          111,
          112,
          113
         ],
         "y": [
          0.98,
          0.95,
          1.0,
          1.0,
          1.0,
          1.0,
          0.99,
          0.88,
          1.0,
          1.0,
          0.95,
          0.99,
          1.0,
          1.0,
          1.0,
          1.0,
          1.0,
          0.97,
          0.99,
          1.0,
          1.0,
          1.0,
          1.0,
          1.0,
          1.0,
          1.0,
          0.99,
          1.0,
          1.0,
          1.0,
          1.0,
          1.0,
          1.0,
          1.0,
          0.96,
          1.0,
          1.0,
          1.0,
          1.0,
          0.97,
          1.0,
          1.0,
          1.0,
          1.0,
          0.99,
          1.0,
          0.93,
          1.0,
          1.0,
          0.97,
          1.0,
          1.0,
          0.99,
          0.94,
          1.0,
          1.0,
          0.98,
          1.0,
          0.99,
          1.0,
          0.99,
          1.0,
          1.0,
          1.0,
          1.0,
          0.99,
          0.98,
          1.0,
          0.99,
          0.98,
          0.99,
          1.0,
          0.91,
          0.97,
          1.0,
          1.0,
          0.86,
          1.0,
          1.0,
          1.0,
          1.0,
          1.0,
          1.0,
          1.0,
          1.0,
          0.99,
          1.0,
          0.91,
          1.0,
          0.99,
          1.0,
          1.0,
          1.0,
          1.0,
          1.0,
          1.0,
          1.0,
          1.0,
          1.0,
          1.0,
          0.93,
          1.0,
          1.0,
          0.98,
          1.0,
          0.99,
          1.0,
          1.0,
          0.95,
          1.0,
          1.0,
          0.99,
          1.0,
          0.89
         ],
         "type": "scatter"
        },
        {
         "mode": "lines+markers",
         "name": "gemma",
         "x": [
          0,
          1,
          2,
          3,
          4,
          5,
          6,
          7,
          8,
          9,
          10,
          11,
          12,
          13,
          14,
          15,
          16,
          17,
          18,
          19,
          20,
          21,
          22,
          23,
          24,
          25,
          26,
          27,
          28,
          29,
          30,
          31,
          32,
          33,
          34,
          35,
          36,
          37,
          38,
          39,
          40,
          41,
          42,
          43,
          44,
          45,
          46,
          47,
          48,
          49,
          50,
          51,
          52,
          53,
          54,
          55,
          56,
          57,
          58,
          59,
          60,
          61,
          62,
          63,
          64,
          65,
          66,
          67,
          68,
          69,
          70,
          71,
          72,
          73,
          74,
          75,
          76,
          77,
          78,
          79,
          80,
          81,
          82,
          83,
          84,
          85,
          86,
          87,
          88,
          89,
          90,
          91,
          92,
          93,
          94,
          95,
          96,
          97,
          98,
          99,
          100,
          101,
          102,
          103,
          104,
          105,
          106,
          107,
          108,
          109,
          110,
          111,
          112,
          113
         ],
         "y": [
          1.0,
          0.99,
          1.0,
          1.0,
          1.0,
          0.95,
          0.99,
          1.0,
          0.94,
          0.97,
          0.75,
          0.85,
          0.88,
          1.0,
          0.93,
          1.0,
          1.0,
          0.97,
          0.7,
          0.78,
          1.0,
          0.81,
          0.85,
          0.75,
          0.7,
          0.79,
          0.98,
          0.92,
          1.0,
          0.83,
          0.97,
          1.0,
          1.0,
          0.92,
          1.0,
          0.83,
          0.63,
          0.4,
          0.77,
          0.86,
          0.94,
          0.94,
          0.85,
          0.92,
          0.88,
          1.0,
          1.0,
          0.77,
          0.92,
          1.0,
          0.78,
          0.95,
          1.0,
          0.99,
          0.66,
          0.95,
          1.0,
          1.0,
          0.81,
          0.91,
          0.89,
          1.0,
          0.95,
          1.0,
          1.0,
          0.93,
          0.87,
          1.0,
          0.95,
          1.0,
          0.86,
          0.92,
          1.0,
          0.95,
          1.0,
          0.88,
          0.98,
          0.65,
          0.89,
          1.0,
          0.73,
          0.78,
          1.0,
          0.98,
          0.9,
          0.86,
          0.8,
          0.88,
          0.62,
          0.83,
          0.93,
          0.68,
          0.7,
          0.86,
          1.0,
          0.77,
          1.0,
          1.0,
          0.88,
          0.79,
          1.0,
          1.0,
          0.92,
          1.0,
          0.88,
          1.0,
          0.75,
          1.0,
          0.91,
          0.72,
          0.83,
          1.0,
          1.0,
          0.92
         ],
         "type": "scatter"
        }
       ],
       "layout": {
        "template": {
         "data": {
          "histogram2dcontour": [
           {
            "type": "histogram2dcontour",
            "colorbar": {
             "outlinewidth": 0,
             "ticks": ""
            },
            "colorscale": [
             [
              0.0,
              "#0d0887"
             ],
             [
              0.1111111111111111,
              "#46039f"
             ],
             [
              0.2222222222222222,
              "#7201a8"
             ],
             [
              0.3333333333333333,
              "#9c179e"
             ],
             [
              0.4444444444444444,
              "#bd3786"
             ],
             [
              0.5555555555555556,
              "#d8576b"
             ],
             [
              0.6666666666666666,
              "#ed7953"
             ],
             [
              0.7777777777777778,
              "#fb9f3a"
             ],
             [
              0.8888888888888888,
              "#fdca26"
             ],
             [
              1.0,
              "#f0f921"
             ]
            ]
           }
          ],
          "choropleth": [
           {
            "type": "choropleth",
            "colorbar": {
             "outlinewidth": 0,
             "ticks": ""
            }
           }
          ],
          "histogram2d": [
           {
            "type": "histogram2d",
            "colorbar": {
             "outlinewidth": 0,
             "ticks": ""
            },
            "colorscale": [
             [
              0.0,
              "#0d0887"
             ],
             [
              0.1111111111111111,
              "#46039f"
             ],
             [
              0.2222222222222222,
              "#7201a8"
             ],
             [
              0.3333333333333333,
              "#9c179e"
             ],
             [
              0.4444444444444444,
              "#bd3786"
             ],
             [
              0.5555555555555556,
              "#d8576b"
             ],
             [
              0.6666666666666666,
              "#ed7953"
             ],
             [
              0.7777777777777778,
              "#fb9f3a"
             ],
             [
              0.8888888888888888,
              "#fdca26"
             ],
             [
              1.0,
              "#f0f921"
             ]
            ]
           }
          ],
          "heatmap": [
           {
            "type": "heatmap",
            "colorbar": {
             "outlinewidth": 0,
             "ticks": ""
            },
            "colorscale": [
             [
              0.0,
              "#0d0887"
             ],
             [
              0.1111111111111111,
              "#46039f"
             ],
             [
              0.2222222222222222,
              "#7201a8"
             ],
             [
              0.3333333333333333,
              "#9c179e"
             ],
             [
              0.4444444444444444,
              "#bd3786"
             ],
             [
              0.5555555555555556,
              "#d8576b"
             ],
             [
              0.6666666666666666,
              "#ed7953"
             ],
             [
              0.7777777777777778,
              "#fb9f3a"
             ],
             [
              0.8888888888888888,
              "#fdca26"
             ],
             [
              1.0,
              "#f0f921"
             ]
            ]
           }
          ],
          "heatmapgl": [
           {
            "type": "heatmapgl",
            "colorbar": {
             "outlinewidth": 0,
             "ticks": ""
            },
            "colorscale": [
             [
              0.0,
              "#0d0887"
             ],
             [
              0.1111111111111111,
              "#46039f"
             ],
             [
              0.2222222222222222,
              "#7201a8"
             ],
             [
              0.3333333333333333,
              "#9c179e"
             ],
             [
              0.4444444444444444,
              "#bd3786"
             ],
             [
              0.5555555555555556,
              "#d8576b"
             ],
             [
              0.6666666666666666,
              "#ed7953"
             ],
             [
              0.7777777777777778,
              "#fb9f3a"
             ],
             [
              0.8888888888888888,
              "#fdca26"
             ],
             [
              1.0,
              "#f0f921"
             ]
            ]
           }
          ],
          "contourcarpet": [
           {
            "type": "contourcarpet",
            "colorbar": {
             "outlinewidth": 0,
             "ticks": ""
            }
           }
          ],
          "contour": [
           {
            "type": "contour",
            "colorbar": {
             "outlinewidth": 0,
             "ticks": ""
            },
            "colorscale": [
             [
              0.0,
              "#0d0887"
             ],
             [
              0.1111111111111111,
              "#46039f"
             ],
             [
              0.2222222222222222,
              "#7201a8"
             ],
             [
              0.3333333333333333,
              "#9c179e"
             ],
             [
              0.4444444444444444,
              "#bd3786"
             ],
             [
              0.5555555555555556,
              "#d8576b"
             ],
             [
              0.6666666666666666,
              "#ed7953"
             ],
             [
              0.7777777777777778,
              "#fb9f3a"
             ],
             [
              0.8888888888888888,
              "#fdca26"
             ],
             [
              1.0,
              "#f0f921"
             ]
            ]
           }
          ],
          "surface": [
           {
            "type": "surface",
            "colorbar": {
             "outlinewidth": 0,
             "ticks": ""
            },
            "colorscale": [
             [
              0.0,
              "#0d0887"
             ],
             [
              0.1111111111111111,
              "#46039f"
             ],
             [
              0.2222222222222222,
              "#7201a8"
             ],
             [
              0.3333333333333333,
              "#9c179e"
             ],
             [
              0.4444444444444444,
              "#bd3786"
             ],
             [
              0.5555555555555556,
              "#d8576b"
             ],
             [
              0.6666666666666666,
              "#ed7953"
             ],
             [
              0.7777777777777778,
              "#fb9f3a"
             ],
             [
              0.8888888888888888,
              "#fdca26"
             ],
             [
              1.0,
              "#f0f921"
             ]
            ]
           }
          ],
          "mesh3d": [
           {
            "type": "mesh3d",
            "colorbar": {
             "outlinewidth": 0,
             "ticks": ""
            }
           }
          ],
          "scatter": [
           {
            "marker": {
             "line": {
              "color": "#283442"
             }
            },
            "type": "scatter"
           }
          ],
          "parcoords": [
           {
            "type": "parcoords",
            "line": {
             "colorbar": {
              "outlinewidth": 0,
              "ticks": ""
             }
            }
           }
          ],
          "scatterpolargl": [
           {
            "type": "scatterpolargl",
            "marker": {
             "colorbar": {
              "outlinewidth": 0,
              "ticks": ""
             }
            }
           }
          ],
          "bar": [
           {
            "error_x": {
             "color": "#f2f5fa"
            },
            "error_y": {
             "color": "#f2f5fa"
            },
            "marker": {
             "line": {
              "color": "rgb(17,17,17)",
              "width": 0.5
             },
             "pattern": {
              "fillmode": "overlay",
              "size": 10,
              "solidity": 0.2
             }
            },
            "type": "bar"
           }
          ],
          "scattergeo": [
           {
            "type": "scattergeo",
            "marker": {
             "colorbar": {
              "outlinewidth": 0,
              "ticks": ""
             }
            }
           }
          ],
          "scatterpolar": [
           {
            "type": "scatterpolar",
            "marker": {
             "colorbar": {
              "outlinewidth": 0,
              "ticks": ""
             }
            }
           }
          ],
          "histogram": [
           {
            "marker": {
             "pattern": {
              "fillmode": "overlay",
              "size": 10,
              "solidity": 0.2
             }
            },
            "type": "histogram"
           }
          ],
          "scattergl": [
           {
            "marker": {
             "line": {
              "color": "#283442"
             }
            },
            "type": "scattergl"
           }
          ],
          "scatter3d": [
           {
            "type": "scatter3d",
            "line": {
             "colorbar": {
              "outlinewidth": 0,
              "ticks": ""
             }
            },
            "marker": {
             "colorbar": {
              "outlinewidth": 0,
              "ticks": ""
             }
            }
           }
          ],
          "scattermapbox": [
           {
            "type": "scattermapbox",
            "marker": {
             "colorbar": {
              "outlinewidth": 0,
              "ticks": ""
             }
            }
           }
          ],
          "scatterternary": [
           {
            "type": "scatterternary",
            "marker": {
             "colorbar": {
              "outlinewidth": 0,
              "ticks": ""
             }
            }
           }
          ],
          "scattercarpet": [
           {
            "type": "scattercarpet",
            "marker": {
             "colorbar": {
              "outlinewidth": 0,
              "ticks": ""
             }
            }
           }
          ],
          "carpet": [
           {
            "aaxis": {
             "endlinecolor": "#A2B1C6",
             "gridcolor": "#506784",
             "linecolor": "#506784",
             "minorgridcolor": "#506784",
             "startlinecolor": "#A2B1C6"
            },
            "baxis": {
             "endlinecolor": "#A2B1C6",
             "gridcolor": "#506784",
             "linecolor": "#506784",
             "minorgridcolor": "#506784",
             "startlinecolor": "#A2B1C6"
            },
            "type": "carpet"
           }
          ],
          "table": [
           {
            "cells": {
             "fill": {
              "color": "#506784"
             },
             "line": {
              "color": "rgb(17,17,17)"
             }
            },
            "header": {
             "fill": {
              "color": "#2a3f5f"
             },
             "line": {
              "color": "rgb(17,17,17)"
             }
            },
            "type": "table"
           }
          ],
          "barpolar": [
           {
            "marker": {
             "line": {
              "color": "rgb(17,17,17)",
              "width": 0.5
             },
             "pattern": {
              "fillmode": "overlay",
              "size": 10,
              "solidity": 0.2
             }
            },
            "type": "barpolar"
           }
          ],
          "pie": [
           {
            "automargin": true,
            "type": "pie"
           }
          ]
         },
         "layout": {
          "autotypenumbers": "strict",
          "colorway": [
           "#636efa",
           "#EF553B",
           "#00cc96",
           "#ab63fa",
           "#FFA15A",
           "#19d3f3",
           "#FF6692",
           "#B6E880",
           "#FF97FF",
           "#FECB52"
          ],
          "font": {
           "color": "#f2f5fa"
          },
          "hovermode": "closest",
          "hoverlabel": {
           "align": "left"
          },
          "paper_bgcolor": "rgb(17,17,17)",
          "plot_bgcolor": "rgb(17,17,17)",
          "polar": {
           "bgcolor": "rgb(17,17,17)",
           "angularaxis": {
            "gridcolor": "#506784",
            "linecolor": "#506784",
            "ticks": ""
           },
           "radialaxis": {
            "gridcolor": "#506784",
            "linecolor": "#506784",
            "ticks": ""
           }
          },
          "ternary": {
           "bgcolor": "rgb(17,17,17)",
           "aaxis": {
            "gridcolor": "#506784",
            "linecolor": "#506784",
            "ticks": ""
           },
           "baxis": {
            "gridcolor": "#506784",
            "linecolor": "#506784",
            "ticks": ""
           },
           "caxis": {
            "gridcolor": "#506784",
            "linecolor": "#506784",
            "ticks": ""
           }
          },
          "coloraxis": {
           "colorbar": {
            "outlinewidth": 0,
            "ticks": ""
           }
          },
          "colorscale": {
           "sequential": [
            [
             0.0,
             "#0d0887"
            ],
            [
             0.1111111111111111,
             "#46039f"
            ],
            [
             0.2222222222222222,
             "#7201a8"
            ],
            [
             0.3333333333333333,
             "#9c179e"
            ],
            [
             0.4444444444444444,
             "#bd3786"
            ],
            [
             0.5555555555555556,
             "#d8576b"
            ],
            [
             0.6666666666666666,
             "#ed7953"
            ],
            [
             0.7777777777777778,
             "#fb9f3a"
            ],
            [
             0.8888888888888888,
             "#fdca26"
            ],
            [
             1.0,
             "#f0f921"
            ]
           ],
           "sequentialminus": [
            [
             0.0,
             "#0d0887"
            ],
            [
             0.1111111111111111,
             "#46039f"
            ],
            [
             0.2222222222222222,
             "#7201a8"
            ],
            [
             0.3333333333333333,
             "#9c179e"
            ],
            [
             0.4444444444444444,
             "#bd3786"
            ],
            [
             0.5555555555555556,
             "#d8576b"
            ],
            [
             0.6666666666666666,
             "#ed7953"
            ],
            [
             0.7777777777777778,
             "#fb9f3a"
            ],
            [
             0.8888888888888888,
             "#fdca26"
            ],
            [
             1.0,
             "#f0f921"
            ]
           ],
           "diverging": [
            [
             0,
             "#8e0152"
            ],
            [
             0.1,
             "#c51b7d"
            ],
            [
             0.2,
             "#de77ae"
            ],
            [
             0.3,
             "#f1b6da"
            ],
            [
             0.4,
             "#fde0ef"
            ],
            [
             0.5,
             "#f7f7f7"
            ],
            [
             0.6,
             "#e6f5d0"
            ],
            [
             0.7,
             "#b8e186"
            ],
            [
             0.8,
             "#7fbc41"
            ],
            [
             0.9,
             "#4d9221"
            ],
            [
             1,
             "#276419"
            ]
           ]
          },
          "xaxis": {
           "gridcolor": "#283442",
           "linecolor": "#506784",
           "ticks": "",
           "title": {
            "standoff": 15
           },
           "zerolinecolor": "#283442",
           "automargin": true,
           "zerolinewidth": 2
          },
          "yaxis": {
           "gridcolor": "#283442",
           "linecolor": "#506784",
           "ticks": "",
           "title": {
            "standoff": 15
           },
           "zerolinecolor": "#283442",
           "automargin": true,
           "zerolinewidth": 2
          },
          "scene": {
           "xaxis": {
            "backgroundcolor": "rgb(17,17,17)",
            "gridcolor": "#506784",
            "linecolor": "#506784",
            "showbackground": true,
            "ticks": "",
            "zerolinecolor": "#C8D4E3",
            "gridwidth": 2
           },
           "yaxis": {
            "backgroundcolor": "rgb(17,17,17)",
            "gridcolor": "#506784",
            "linecolor": "#506784",
            "showbackground": true,
            "ticks": "",
            "zerolinecolor": "#C8D4E3",
            "gridwidth": 2
           },
           "zaxis": {
            "backgroundcolor": "rgb(17,17,17)",
            "gridcolor": "#506784",
            "linecolor": "#506784",
            "showbackground": true,
            "ticks": "",
            "zerolinecolor": "#C8D4E3",
            "gridwidth": 2
           }
          },
          "shapedefaults": {
           "line": {
            "color": "#f2f5fa"
           }
          },
          "annotationdefaults": {
           "arrowcolor": "#f2f5fa",
           "arrowhead": 0,
           "arrowwidth": 1
          },
          "geo": {
           "bgcolor": "rgb(17,17,17)",
           "landcolor": "rgb(17,17,17)",
           "subunitcolor": "#506784",
           "showland": true,
           "showlakes": true,
           "lakecolor": "rgb(17,17,17)"
          },
          "title": {
           "x": 0.05
          },
          "updatemenudefaults": {
           "bgcolor": "#506784",
           "borderwidth": 0
          },
          "sliderdefaults": {
           "bgcolor": "#C8D4E3",
           "borderwidth": 1,
           "bordercolor": "rgb(17,17,17)",
           "tickwidth": 0
          },
          "mapbox": {
           "style": "dark"
          }
         }
        },
        "xaxis": {
         "title": {
          "text": "Narrative index"
         }
        },
        "yaxis": {
         "title": {
          "text": "Jaccard"
         }
        }
       },
       "config": {
        "plotlyServerURL": "https://plot.ly"
       }
      },
      "text/html": "<div>                            <div id=\"49e9de73-569e-448c-844f-7ccc04bdb61c\" class=\"plotly-graph-div\" style=\"height:525px; width:100%;\"></div>            <script type=\"text/javascript\">                require([\"plotly\"], function(Plotly) {                    window.PLOTLYENV=window.PLOTLYENV || {};                                    if (document.getElementById(\"49e9de73-569e-448c-844f-7ccc04bdb61c\")) {                    Plotly.newPlot(                        \"49e9de73-569e-448c-844f-7ccc04bdb61c\",                        [{\"mode\":\"lines+markers\",\"name\":\"llama\",\"x\":[0,1,2,3,4,5,6,7,8,9,10,11,12,13,14,15,16,17,18,19,20,21,22,23,24,25,26,27,28,29,30,31,32,33,34,35,36,37,38,39,40,41,42,43,44,45,46,47,48,49,50,51,52,53,54,55,56,57,58,59,60,61,62,63,64,65,66,67,68,69,70,71,72,73,74,75,76,77,78,79,80,81,82,83,84,85,86,87,88,89,90,91,92,93,94,95,96,97,98,99,100,101,102,103,104,105,106,107,108,109,110,111,112,113],\"y\":[0.98,0.95,1.0,1.0,1.0,1.0,0.99,0.88,1.0,1.0,0.95,0.99,1.0,1.0,1.0,1.0,1.0,0.97,0.99,1.0,1.0,1.0,1.0,1.0,1.0,1.0,0.99,1.0,1.0,1.0,1.0,1.0,1.0,1.0,0.96,1.0,1.0,1.0,1.0,0.97,1.0,1.0,1.0,1.0,0.99,1.0,0.93,1.0,1.0,0.97,1.0,1.0,0.99,0.94,1.0,1.0,0.98,1.0,0.99,1.0,0.99,1.0,1.0,1.0,1.0,0.99,0.98,1.0,0.99,0.98,0.99,1.0,0.91,0.97,1.0,1.0,0.86,1.0,1.0,1.0,1.0,1.0,1.0,1.0,1.0,0.99,1.0,0.91,1.0,0.99,1.0,1.0,1.0,1.0,1.0,1.0,1.0,1.0,1.0,1.0,0.93,1.0,1.0,0.98,1.0,0.99,1.0,1.0,0.95,1.0,1.0,0.99,1.0,0.89],\"type\":\"scatter\"},{\"mode\":\"lines+markers\",\"name\":\"gemma\",\"x\":[0,1,2,3,4,5,6,7,8,9,10,11,12,13,14,15,16,17,18,19,20,21,22,23,24,25,26,27,28,29,30,31,32,33,34,35,36,37,38,39,40,41,42,43,44,45,46,47,48,49,50,51,52,53,54,55,56,57,58,59,60,61,62,63,64,65,66,67,68,69,70,71,72,73,74,75,76,77,78,79,80,81,82,83,84,85,86,87,88,89,90,91,92,93,94,95,96,97,98,99,100,101,102,103,104,105,106,107,108,109,110,111,112,113],\"y\":[1.0,0.99,1.0,1.0,1.0,0.95,0.99,1.0,0.94,0.97,0.75,0.85,0.88,1.0,0.93,1.0,1.0,0.97,0.7,0.78,1.0,0.81,0.85,0.75,0.7,0.79,0.98,0.92,1.0,0.83,0.97,1.0,1.0,0.92,1.0,0.83,0.63,0.4,0.77,0.86,0.94,0.94,0.85,0.92,0.88,1.0,1.0,0.77,0.92,1.0,0.78,0.95,1.0,0.99,0.66,0.95,1.0,1.0,0.81,0.91,0.89,1.0,0.95,1.0,1.0,0.93,0.87,1.0,0.95,1.0,0.86,0.92,1.0,0.95,1.0,0.88,0.98,0.65,0.89,1.0,0.73,0.78,1.0,0.98,0.9,0.86,0.8,0.88,0.62,0.83,0.93,0.68,0.7,0.86,1.0,0.77,1.0,1.0,0.88,0.79,1.0,1.0,0.92,1.0,0.88,1.0,0.75,1.0,0.91,0.72,0.83,1.0,1.0,0.92],\"type\":\"scatter\"}],                        {\"template\":{\"data\":{\"histogram2dcontour\":[{\"type\":\"histogram2dcontour\",\"colorbar\":{\"outlinewidth\":0,\"ticks\":\"\"},\"colorscale\":[[0.0,\"#0d0887\"],[0.1111111111111111,\"#46039f\"],[0.2222222222222222,\"#7201a8\"],[0.3333333333333333,\"#9c179e\"],[0.4444444444444444,\"#bd3786\"],[0.5555555555555556,\"#d8576b\"],[0.6666666666666666,\"#ed7953\"],[0.7777777777777778,\"#fb9f3a\"],[0.8888888888888888,\"#fdca26\"],[1.0,\"#f0f921\"]]}],\"choropleth\":[{\"type\":\"choropleth\",\"colorbar\":{\"outlinewidth\":0,\"ticks\":\"\"}}],\"histogram2d\":[{\"type\":\"histogram2d\",\"colorbar\":{\"outlinewidth\":0,\"ticks\":\"\"},\"colorscale\":[[0.0,\"#0d0887\"],[0.1111111111111111,\"#46039f\"],[0.2222222222222222,\"#7201a8\"],[0.3333333333333333,\"#9c179e\"],[0.4444444444444444,\"#bd3786\"],[0.5555555555555556,\"#d8576b\"],[0.6666666666666666,\"#ed7953\"],[0.7777777777777778,\"#fb9f3a\"],[0.8888888888888888,\"#fdca26\"],[1.0,\"#f0f921\"]]}],\"heatmap\":[{\"type\":\"heatmap\",\"colorbar\":{\"outlinewidth\":0,\"ticks\":\"\"},\"colorscale\":[[0.0,\"#0d0887\"],[0.1111111111111111,\"#46039f\"],[0.2222222222222222,\"#7201a8\"],[0.3333333333333333,\"#9c179e\"],[0.4444444444444444,\"#bd3786\"],[0.5555555555555556,\"#d8576b\"],[0.6666666666666666,\"#ed7953\"],[0.7777777777777778,\"#fb9f3a\"],[0.8888888888888888,\"#fdca26\"],[1.0,\"#f0f921\"]]}],\"heatmapgl\":[{\"type\":\"heatmapgl\",\"colorbar\":{\"outlinewidth\":0,\"ticks\":\"\"},\"colorscale\":[[0.0,\"#0d0887\"],[0.1111111111111111,\"#46039f\"],[0.2222222222222222,\"#7201a8\"],[0.3333333333333333,\"#9c179e\"],[0.4444444444444444,\"#bd3786\"],[0.5555555555555556,\"#d8576b\"],[0.6666666666666666,\"#ed7953\"],[0.7777777777777778,\"#fb9f3a\"],[0.8888888888888888,\"#fdca26\"],[1.0,\"#f0f921\"]]}],\"contourcarpet\":[{\"type\":\"contourcarpet\",\"colorbar\":{\"outlinewidth\":0,\"ticks\":\"\"}}],\"contour\":[{\"type\":\"contour\",\"colorbar\":{\"outlinewidth\":0,\"ticks\":\"\"},\"colorscale\":[[0.0,\"#0d0887\"],[0.1111111111111111,\"#46039f\"],[0.2222222222222222,\"#7201a8\"],[0.3333333333333333,\"#9c179e\"],[0.4444444444444444,\"#bd3786\"],[0.5555555555555556,\"#d8576b\"],[0.6666666666666666,\"#ed7953\"],[0.7777777777777778,\"#fb9f3a\"],[0.8888888888888888,\"#fdca26\"],[1.0,\"#f0f921\"]]}],\"surface\":[{\"type\":\"surface\",\"colorbar\":{\"outlinewidth\":0,\"ticks\":\"\"},\"colorscale\":[[0.0,\"#0d0887\"],[0.1111111111111111,\"#46039f\"],[0.2222222222222222,\"#7201a8\"],[0.3333333333333333,\"#9c179e\"],[0.4444444444444444,\"#bd3786\"],[0.5555555555555556,\"#d8576b\"],[0.6666666666666666,\"#ed7953\"],[0.7777777777777778,\"#fb9f3a\"],[0.8888888888888888,\"#fdca26\"],[1.0,\"#f0f921\"]]}],\"mesh3d\":[{\"type\":\"mesh3d\",\"colorbar\":{\"outlinewidth\":0,\"ticks\":\"\"}}],\"scatter\":[{\"marker\":{\"line\":{\"color\":\"#283442\"}},\"type\":\"scatter\"}],\"parcoords\":[{\"type\":\"parcoords\",\"line\":{\"colorbar\":{\"outlinewidth\":0,\"ticks\":\"\"}}}],\"scatterpolargl\":[{\"type\":\"scatterpolargl\",\"marker\":{\"colorbar\":{\"outlinewidth\":0,\"ticks\":\"\"}}}],\"bar\":[{\"error_x\":{\"color\":\"#f2f5fa\"},\"error_y\":{\"color\":\"#f2f5fa\"},\"marker\":{\"line\":{\"color\":\"rgb(17,17,17)\",\"width\":0.5},\"pattern\":{\"fillmode\":\"overlay\",\"size\":10,\"solidity\":0.2}},\"type\":\"bar\"}],\"scattergeo\":[{\"type\":\"scattergeo\",\"marker\":{\"colorbar\":{\"outlinewidth\":0,\"ticks\":\"\"}}}],\"scatterpolar\":[{\"type\":\"scatterpolar\",\"marker\":{\"colorbar\":{\"outlinewidth\":0,\"ticks\":\"\"}}}],\"histogram\":[{\"marker\":{\"pattern\":{\"fillmode\":\"overlay\",\"size\":10,\"solidity\":0.2}},\"type\":\"histogram\"}],\"scattergl\":[{\"marker\":{\"line\":{\"color\":\"#283442\"}},\"type\":\"scattergl\"}],\"scatter3d\":[{\"type\":\"scatter3d\",\"line\":{\"colorbar\":{\"outlinewidth\":0,\"ticks\":\"\"}},\"marker\":{\"colorbar\":{\"outlinewidth\":0,\"ticks\":\"\"}}}],\"scattermapbox\":[{\"type\":\"scattermapbox\",\"marker\":{\"colorbar\":{\"outlinewidth\":0,\"ticks\":\"\"}}}],\"scatterternary\":[{\"type\":\"scatterternary\",\"marker\":{\"colorbar\":{\"outlinewidth\":0,\"ticks\":\"\"}}}],\"scattercarpet\":[{\"type\":\"scattercarpet\",\"marker\":{\"colorbar\":{\"outlinewidth\":0,\"ticks\":\"\"}}}],\"carpet\":[{\"aaxis\":{\"endlinecolor\":\"#A2B1C6\",\"gridcolor\":\"#506784\",\"linecolor\":\"#506784\",\"minorgridcolor\":\"#506784\",\"startlinecolor\":\"#A2B1C6\"},\"baxis\":{\"endlinecolor\":\"#A2B1C6\",\"gridcolor\":\"#506784\",\"linecolor\":\"#506784\",\"minorgridcolor\":\"#506784\",\"startlinecolor\":\"#A2B1C6\"},\"type\":\"carpet\"}],\"table\":[{\"cells\":{\"fill\":{\"color\":\"#506784\"},\"line\":{\"color\":\"rgb(17,17,17)\"}},\"header\":{\"fill\":{\"color\":\"#2a3f5f\"},\"line\":{\"color\":\"rgb(17,17,17)\"}},\"type\":\"table\"}],\"barpolar\":[{\"marker\":{\"line\":{\"color\":\"rgb(17,17,17)\",\"width\":0.5},\"pattern\":{\"fillmode\":\"overlay\",\"size\":10,\"solidity\":0.2}},\"type\":\"barpolar\"}],\"pie\":[{\"automargin\":true,\"type\":\"pie\"}]},\"layout\":{\"autotypenumbers\":\"strict\",\"colorway\":[\"#636efa\",\"#EF553B\",\"#00cc96\",\"#ab63fa\",\"#FFA15A\",\"#19d3f3\",\"#FF6692\",\"#B6E880\",\"#FF97FF\",\"#FECB52\"],\"font\":{\"color\":\"#f2f5fa\"},\"hovermode\":\"closest\",\"hoverlabel\":{\"align\":\"left\"},\"paper_bgcolor\":\"rgb(17,17,17)\",\"plot_bgcolor\":\"rgb(17,17,17)\",\"polar\":{\"bgcolor\":\"rgb(17,17,17)\",\"angularaxis\":{\"gridcolor\":\"#506784\",\"linecolor\":\"#506784\",\"ticks\":\"\"},\"radialaxis\":{\"gridcolor\":\"#506784\",\"linecolor\":\"#506784\",\"ticks\":\"\"}},\"ternary\":{\"bgcolor\":\"rgb(17,17,17)\",\"aaxis\":{\"gridcolor\":\"#506784\",\"linecolor\":\"#506784\",\"ticks\":\"\"},\"baxis\":{\"gridcolor\":\"#506784\",\"linecolor\":\"#506784\",\"ticks\":\"\"},\"caxis\":{\"gridcolor\":\"#506784\",\"linecolor\":\"#506784\",\"ticks\":\"\"}},\"coloraxis\":{\"colorbar\":{\"outlinewidth\":0,\"ticks\":\"\"}},\"colorscale\":{\"sequential\":[[0.0,\"#0d0887\"],[0.1111111111111111,\"#46039f\"],[0.2222222222222222,\"#7201a8\"],[0.3333333333333333,\"#9c179e\"],[0.4444444444444444,\"#bd3786\"],[0.5555555555555556,\"#d8576b\"],[0.6666666666666666,\"#ed7953\"],[0.7777777777777778,\"#fb9f3a\"],[0.8888888888888888,\"#fdca26\"],[1.0,\"#f0f921\"]],\"sequentialminus\":[[0.0,\"#0d0887\"],[0.1111111111111111,\"#46039f\"],[0.2222222222222222,\"#7201a8\"],[0.3333333333333333,\"#9c179e\"],[0.4444444444444444,\"#bd3786\"],[0.5555555555555556,\"#d8576b\"],[0.6666666666666666,\"#ed7953\"],[0.7777777777777778,\"#fb9f3a\"],[0.8888888888888888,\"#fdca26\"],[1.0,\"#f0f921\"]],\"diverging\":[[0,\"#8e0152\"],[0.1,\"#c51b7d\"],[0.2,\"#de77ae\"],[0.3,\"#f1b6da\"],[0.4,\"#fde0ef\"],[0.5,\"#f7f7f7\"],[0.6,\"#e6f5d0\"],[0.7,\"#b8e186\"],[0.8,\"#7fbc41\"],[0.9,\"#4d9221\"],[1,\"#276419\"]]},\"xaxis\":{\"gridcolor\":\"#283442\",\"linecolor\":\"#506784\",\"ticks\":\"\",\"title\":{\"standoff\":15},\"zerolinecolor\":\"#283442\",\"automargin\":true,\"zerolinewidth\":2},\"yaxis\":{\"gridcolor\":\"#283442\",\"linecolor\":\"#506784\",\"ticks\":\"\",\"title\":{\"standoff\":15},\"zerolinecolor\":\"#283442\",\"automargin\":true,\"zerolinewidth\":2},\"scene\":{\"xaxis\":{\"backgroundcolor\":\"rgb(17,17,17)\",\"gridcolor\":\"#506784\",\"linecolor\":\"#506784\",\"showbackground\":true,\"ticks\":\"\",\"zerolinecolor\":\"#C8D4E3\",\"gridwidth\":2},\"yaxis\":{\"backgroundcolor\":\"rgb(17,17,17)\",\"gridcolor\":\"#506784\",\"linecolor\":\"#506784\",\"showbackground\":true,\"ticks\":\"\",\"zerolinecolor\":\"#C8D4E3\",\"gridwidth\":2},\"zaxis\":{\"backgroundcolor\":\"rgb(17,17,17)\",\"gridcolor\":\"#506784\",\"linecolor\":\"#506784\",\"showbackground\":true,\"ticks\":\"\",\"zerolinecolor\":\"#C8D4E3\",\"gridwidth\":2}},\"shapedefaults\":{\"line\":{\"color\":\"#f2f5fa\"}},\"annotationdefaults\":{\"arrowcolor\":\"#f2f5fa\",\"arrowhead\":0,\"arrowwidth\":1},\"geo\":{\"bgcolor\":\"rgb(17,17,17)\",\"landcolor\":\"rgb(17,17,17)\",\"subunitcolor\":\"#506784\",\"showland\":true,\"showlakes\":true,\"lakecolor\":\"rgb(17,17,17)\"},\"title\":{\"x\":0.05},\"updatemenudefaults\":{\"bgcolor\":\"#506784\",\"borderwidth\":0},\"sliderdefaults\":{\"bgcolor\":\"#C8D4E3\",\"borderwidth\":1,\"bordercolor\":\"rgb(17,17,17)\",\"tickwidth\":0},\"mapbox\":{\"style\":\"dark\"}}},\"xaxis\":{\"title\":{\"text\":\"Narrative index\"}},\"yaxis\":{\"title\":{\"text\":\"Jaccard\"}}},                        {\"responsive\": true}                    ).then(function(){\n                            \nvar gd = document.getElementById('49e9de73-569e-448c-844f-7ccc04bdb61c');\nvar x = new MutationObserver(function (mutations, observer) {{\n        var display = window.getComputedStyle(gd).display;\n        if (!display || display === 'none') {{\n            console.log([gd, 'removed!']);\n            Plotly.purge(gd);\n            observer.disconnect();\n        }}\n}});\n\n// Listen for the removal of the full notebook cells\nvar notebookContainer = gd.closest('#notebook-container');\nif (notebookContainer) {{\n    x.observe(notebookContainer, {childList: true});\n}}\n\n// Listen for the clearing of the current output cell\nvar outputEl = gd.closest('.output');\nif (outputEl) {{\n    x.observe(outputEl, {childList: true});\n}}\n\n                        })                };                });            </script>        </div>"
     },
     "metadata": {},
     "output_type": "display_data"
    }
   ],
   "source": [
    "import plotly.graph_objs as go\n",
    "\n",
    "file1 = 'results-' + suffix + '.csv'\n",
    "file2 = 'results-' + suffix2 + '.csv'\n",
    "\n",
    "file_paths = [file1, file2]\n",
    "\n",
    "dataframes = []\n",
    "for file_path in file_paths:\n",
    "    data = pd.read_csv(file_path)\n",
    "    dataframes.append(data)\n",
    "\n",
    "column_to_compare = 'Jaccard'\n",
    "\n",
    "fig = go.Figure()\n",
    "\n",
    "for idx, dataframe in enumerate(dataframes):\n",
    "    fig.add_trace(go.Scatter(x=dataframe['narrative'].index, y=dataframe[column_to_compare],\n",
    "                             mode='lines+markers',\n",
    "                             name=f'DataFrame {idx + 1}'))\n",
    "\n",
    "fig.update_layout(xaxis_title='Narrative index',\n",
    "                  yaxis_title=column_to_compare)\n",
    "\n",
    "fig.data[0].name = 'llama'\n",
    "fig.data[1].name = 'gemma'\n",
    "\n",
    "fig.show()"
   ]
  },
  {
   "cell_type": "code",
   "outputs": [
    {
     "data": {
      "text/plain": "       Jaccard  # Paragraphs  Avg sentences  # Characters  # Tokens\ncount   114.00        114.00         114.00        114.00    114.00\nmean      0.90          3.07           4.29       1737.52    325.14\nstd       0.11          0.70           1.49        262.24     46.20\nmin       0.40          1.00           1.50       1086.00    206.00\n25%       0.84          3.00           3.27       1543.75    292.25\n50%       0.93          3.00           4.00       1772.50    334.00\n75%       1.00          3.00           5.00       1908.75    358.00\nmax       1.00          6.00          10.00       2243.00    412.00",
      "text/html": "<div>\n<style scoped>\n    .dataframe tbody tr th:only-of-type {\n        vertical-align: middle;\n    }\n\n    .dataframe tbody tr th {\n        vertical-align: top;\n    }\n\n    .dataframe thead th {\n        text-align: right;\n    }\n</style>\n<table border=\"1\" class=\"dataframe\">\n  <thead>\n    <tr style=\"text-align: right;\">\n      <th></th>\n      <th>Jaccard</th>\n      <th># Paragraphs</th>\n      <th>Avg sentences</th>\n      <th># Characters</th>\n      <th># Tokens</th>\n    </tr>\n  </thead>\n  <tbody>\n    <tr>\n      <th>count</th>\n      <td>114.00</td>\n      <td>114.00</td>\n      <td>114.00</td>\n      <td>114.00</td>\n      <td>114.00</td>\n    </tr>\n    <tr>\n      <th>mean</th>\n      <td>0.90</td>\n      <td>3.07</td>\n      <td>4.29</td>\n      <td>1737.52</td>\n      <td>325.14</td>\n    </tr>\n    <tr>\n      <th>std</th>\n      <td>0.11</td>\n      <td>0.70</td>\n      <td>1.49</td>\n      <td>262.24</td>\n      <td>46.20</td>\n    </tr>\n    <tr>\n      <th>min</th>\n      <td>0.40</td>\n      <td>1.00</td>\n      <td>1.50</td>\n      <td>1086.00</td>\n      <td>206.00</td>\n    </tr>\n    <tr>\n      <th>25%</th>\n      <td>0.84</td>\n      <td>3.00</td>\n      <td>3.27</td>\n      <td>1543.75</td>\n      <td>292.25</td>\n    </tr>\n    <tr>\n      <th>50%</th>\n      <td>0.93</td>\n      <td>3.00</td>\n      <td>4.00</td>\n      <td>1772.50</td>\n      <td>334.00</td>\n    </tr>\n    <tr>\n      <th>75%</th>\n      <td>1.00</td>\n      <td>3.00</td>\n      <td>5.00</td>\n      <td>1908.75</td>\n      <td>358.00</td>\n    </tr>\n    <tr>\n      <th>max</th>\n      <td>1.00</td>\n      <td>6.00</td>\n      <td>10.00</td>\n      <td>2243.00</td>\n      <td>412.00</td>\n    </tr>\n  </tbody>\n</table>\n</div>"
     },
     "execution_count": 32,
     "metadata": {},
     "output_type": "execute_result"
    }
   ],
   "source": [
    "round(dataframes[1].describe(), 2)"
   ],
   "metadata": {
    "collapsed": false,
    "ExecuteTime": {
     "end_time": "2024-03-07T13:41:26.076424Z",
     "start_time": "2024-03-07T13:41:26.056424Z"
    }
   },
   "id": "252073d8abae8ad4",
   "execution_count": 32
  }
 ],
 "metadata": {
  "kernelspec": {
   "display_name": "Python 3 (ipykernel)",
   "language": "python",
   "name": "python3"
  },
  "language_info": {
   "codemirror_mode": {
    "name": "ipython",
    "version": 3
   },
   "file_extension": ".py",
   "mimetype": "text/x-python",
   "name": "python",
   "nbconvert_exporter": "python",
   "pygments_lexer": "ipython3",
   "version": "3.11.5"
  }
 },
 "nbformat": 4,
 "nbformat_minor": 5
}
