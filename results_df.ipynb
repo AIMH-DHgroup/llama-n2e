{
 "cells": [
  {
   "cell_type": "code",
   "execution_count": 5,
   "id": "ad8cf8c9",
   "metadata": {
    "ExecuteTime": {
     "end_time": "2024-03-28T16:10:25.544400Z",
     "start_time": "2024-03-28T16:10:25.519879Z"
    }
   },
   "outputs": [
    {
     "data": {
      "text/plain": "                 Model  Avg Jaccard  Avg paragraphs  Avg sentences per p  \\\n0  llama2:7b-chat-q8_0         0.97            7.64                 1.95   \n\n   Avg outputs  \n0         1.12  ",
      "text/html": "<div>\n<style scoped>\n    .dataframe tbody tr th:only-of-type {\n        vertical-align: middle;\n    }\n\n    .dataframe tbody tr th {\n        vertical-align: top;\n    }\n\n    .dataframe thead th {\n        text-align: right;\n    }\n</style>\n<table border=\"1\" class=\"dataframe\">\n  <thead>\n    <tr style=\"text-align: right;\">\n      <th></th>\n      <th>Model</th>\n      <th>Avg Jaccard</th>\n      <th>Avg paragraphs</th>\n      <th>Avg sentences per p</th>\n      <th>Avg outputs</th>\n    </tr>\n  </thead>\n  <tbody>\n    <tr>\n      <th>0</th>\n      <td>llama2:7b-chat-q8_0</td>\n      <td>0.97</td>\n      <td>7.64</td>\n      <td>1.95</td>\n      <td>1.12</td>\n    </tr>\n  </tbody>\n</table>\n</div>"
     },
     "execution_count": 5,
     "metadata": {},
     "output_type": "execute_result"
    }
   ],
   "source": [
    "import pandas as pd\n",
    "\n",
    "suffix = 'all-lastnewprompt-J90-cleaned'\n",
    "suffix2 = 'all-lastnewprompt-J98'\n",
    "suffix3 = 'openchat-all-narra-models'\n",
    "suffix4 = 'orca-all-narra-models'\n",
    "\n",
    "df = pd.read_csv(\"results-\" + suffix + \".csv\")\n",
    "df2 = pd.read_csv(\"results-\" + suffix2 + \".csv\")\n",
    "df3 = pd.read_csv(\"results-\" + suffix3 + \".csv\")\n",
    "df4 = pd.read_csv(\"results-\" + suffix4 + \".csv\")\n",
    "\n",
    "df = df.drop([\"prompt\", \"Avg characters\", \"Avg tokens\"], axis=1)\n",
    "df = df.rename(columns={\"Unnamed: 0\": \"Model\"})\n",
    "df = df.round(2)\n",
    "df2 = df2.drop([\"prompt\", \"Avg characters\", \"Avg tokens\"], axis=1)\n",
    "df2 = df2.rename(columns={\"Unnamed: 0\": \"Model\"})\n",
    "df3 = df3.drop([\"Unnamed: 0\"], axis=1)\n",
    "# df3 = df3.rename(columns={\"Unnamed: 0\": \"Model\"})\n",
    "df3 = df3.round(2)\n",
    "df4 = df4.drop([\"Unnamed: 0\"], axis=1)\n",
    "# df4 = df4.rename(columns={\"Unnamed: 0\": \"Model\"})\n",
    "df4 = df4.round(2)\n",
    "\n",
    "df"
   ]
  },
  {
   "cell_type": "code",
   "outputs": [
    {
     "data": {
      "text/plain": "                 Model  Avg Jaccard  Avg paragraphs  Avg sentences per p  \\\n0  llama2:7b-chat-q8_0     0.939113        7.532258              2.01074   \n\n   Avg outputs  \n0     1.144033  ",
      "text/html": "<div>\n<style scoped>\n    .dataframe tbody tr th:only-of-type {\n        vertical-align: middle;\n    }\n\n    .dataframe tbody tr th {\n        vertical-align: top;\n    }\n\n    .dataframe thead th {\n        text-align: right;\n    }\n</style>\n<table border=\"1\" class=\"dataframe\">\n  <thead>\n    <tr style=\"text-align: right;\">\n      <th></th>\n      <th>Model</th>\n      <th>Avg Jaccard</th>\n      <th>Avg paragraphs</th>\n      <th>Avg sentences per p</th>\n      <th>Avg outputs</th>\n    </tr>\n  </thead>\n  <tbody>\n    <tr>\n      <th>0</th>\n      <td>llama2:7b-chat-q8_0</td>\n      <td>0.939113</td>\n      <td>7.532258</td>\n      <td>2.01074</td>\n      <td>1.144033</td>\n    </tr>\n  </tbody>\n</table>\n</div>"
     },
     "execution_count": 19,
     "metadata": {},
     "output_type": "execute_result"
    }
   ],
   "source": [
    "df2"
   ],
   "metadata": {
    "collapsed": false,
    "ExecuteTime": {
     "end_time": "2024-03-28T10:43:57.921648Z",
     "start_time": "2024-03-28T10:43:57.908893Z"
    }
   },
   "id": "386cca5e850c0bcf",
   "execution_count": 19
  },
  {
   "cell_type": "code",
   "outputs": [
    {
     "data": {
      "text/plain": "                   Model  Avg Jaccard  Avg paragraphs  Avg sentences per p  \\\n0  openchat:7b-v3.5-q4_0         0.99             1.2                13.05   \n\n   Avg outputs  \n0         1.01  ",
      "text/html": "<div>\n<style scoped>\n    .dataframe tbody tr th:only-of-type {\n        vertical-align: middle;\n    }\n\n    .dataframe tbody tr th {\n        vertical-align: top;\n    }\n\n    .dataframe thead th {\n        text-align: right;\n    }\n</style>\n<table border=\"1\" class=\"dataframe\">\n  <thead>\n    <tr style=\"text-align: right;\">\n      <th></th>\n      <th>Model</th>\n      <th>Avg Jaccard</th>\n      <th>Avg paragraphs</th>\n      <th>Avg sentences per p</th>\n      <th>Avg outputs</th>\n    </tr>\n  </thead>\n  <tbody>\n    <tr>\n      <th>0</th>\n      <td>openchat:7b-v3.5-q4_0</td>\n      <td>0.99</td>\n      <td>1.2</td>\n      <td>13.05</td>\n      <td>1.01</td>\n    </tr>\n  </tbody>\n</table>\n</div>"
     },
     "execution_count": 13,
     "metadata": {},
     "output_type": "execute_result"
    }
   ],
   "source": [
    "df3"
   ],
   "metadata": {
    "collapsed": false,
    "ExecuteTime": {
     "end_time": "2024-03-26T11:35:46.232695Z",
     "start_time": "2024-03-26T11:35:46.219917Z"
    }
   },
   "id": "9c0069a21c54b5cb",
   "execution_count": 13
  },
  {
   "cell_type": "code",
   "outputs": [
    {
     "data": {
      "text/plain": "          Model  Avg Jaccard  Avg paragraphs  Avg sentences per p  Avg outputs\n0  orca-mini:7b         0.98            1.26                12.79         1.06",
      "text/html": "<div>\n<style scoped>\n    .dataframe tbody tr th:only-of-type {\n        vertical-align: middle;\n    }\n\n    .dataframe tbody tr th {\n        vertical-align: top;\n    }\n\n    .dataframe thead th {\n        text-align: right;\n    }\n</style>\n<table border=\"1\" class=\"dataframe\">\n  <thead>\n    <tr style=\"text-align: right;\">\n      <th></th>\n      <th>Model</th>\n      <th>Avg Jaccard</th>\n      <th>Avg paragraphs</th>\n      <th>Avg sentences per p</th>\n      <th>Avg outputs</th>\n    </tr>\n  </thead>\n  <tbody>\n    <tr>\n      <th>0</th>\n      <td>orca-mini:7b</td>\n      <td>0.98</td>\n      <td>1.26</td>\n      <td>12.79</td>\n      <td>1.06</td>\n    </tr>\n  </tbody>\n</table>\n</div>"
     },
     "execution_count": 14,
     "metadata": {},
     "output_type": "execute_result"
    }
   ],
   "source": [
    "df4"
   ],
   "metadata": {
    "collapsed": false,
    "ExecuteTime": {
     "end_time": "2024-03-26T11:35:47.476950Z",
     "start_time": "2024-03-26T11:35:47.469637Z"
    }
   },
   "id": "af26fe581edc3e4d",
   "execution_count": 14
  },
  {
   "cell_type": "code",
   "outputs": [
    {
     "data": {
      "text/plain": "                 Model  Avg Jaccard  Avg paragraphs  Avg sentences per p  \\\n0  llama2:7b-chat-q8_0          0.0           -0.14                 0.02   \n\n   Avg outputs  \n0         0.03  ",
      "text/html": "<div>\n<style scoped>\n    .dataframe tbody tr th:only-of-type {\n        vertical-align: middle;\n    }\n\n    .dataframe tbody tr th {\n        vertical-align: top;\n    }\n\n    .dataframe thead th {\n        text-align: right;\n    }\n</style>\n<table border=\"1\" class=\"dataframe\">\n  <thead>\n    <tr style=\"text-align: right;\">\n      <th></th>\n      <th>Model</th>\n      <th>Avg Jaccard</th>\n      <th>Avg paragraphs</th>\n      <th>Avg sentences per p</th>\n      <th>Avg outputs</th>\n    </tr>\n  </thead>\n  <tbody>\n    <tr>\n      <th>0</th>\n      <td>llama2:7b-chat-q8_0</td>\n      <td>0.0</td>\n      <td>-0.14</td>\n      <td>0.02</td>\n      <td>0.03</td>\n    </tr>\n  </tbody>\n</table>\n</div>"
     },
     "execution_count": 6,
     "metadata": {},
     "output_type": "execute_result"
    }
   ],
   "source": [
    "num_cols = df2.select_dtypes(include=['int', 'float']).columns\n",
    "\n",
    "df_dif = df.copy()\n",
    "df_dif[num_cols] = df2[num_cols] - df[num_cols]\n",
    "df_dif = df_dif.round(2)\n",
    "\n",
    "df_dif"
   ],
   "metadata": {
    "collapsed": false,
    "ExecuteTime": {
     "end_time": "2024-03-25T09:30:24.149752Z",
     "start_time": "2024-03-25T09:30:24.133923Z"
    }
   },
   "id": "5a9e7dcdc61b34b2",
   "execution_count": 6
  },
  {
   "cell_type": "code",
   "outputs": [],
   "source": [
    "df.to_csv(suffix + \".csv\", index=False)\n",
    "#df2.to_csv(suffix2 + \".csv\", index=False)"
   ],
   "metadata": {
    "collapsed": false,
    "ExecuteTime": {
     "end_time": "2024-03-27T13:04:48.270645Z",
     "start_time": "2024-03-27T13:04:48.262511Z"
    }
   },
   "id": "9970133220cee40a",
   "execution_count": 4
  },
  {
   "cell_type": "code",
   "outputs": [],
   "source": [
    "# df_final = pd.concat([df, df2, df3, df4])"
   ],
   "metadata": {
    "collapsed": false,
    "ExecuteTime": {
     "end_time": "2024-03-26T11:36:00.751180Z",
     "start_time": "2024-03-26T11:36:00.739040Z"
    }
   },
   "id": "ad88962c55a0e9ce",
   "execution_count": 15
  },
  {
   "cell_type": "code",
   "outputs": [
    {
     "data": {
      "text/plain": "                   Model  Avg Jaccard  Avg paragraphs  Avg sentences per p  \\\n0    llama2:7b-chat-q4_0         0.89            7.23                 2.00   \n0             mistral:7b         0.83            6.46                 2.27   \n0  openchat:7b-v3.5-q4_0         0.99            1.20                13.05   \n0           orca-mini:7b         0.98            1.26                12.79   \n\n   Avg outputs  \n0         1.38  \n0         1.43  \n0         1.01  \n0         1.06  ",
      "text/html": "<div>\n<style scoped>\n    .dataframe tbody tr th:only-of-type {\n        vertical-align: middle;\n    }\n\n    .dataframe tbody tr th {\n        vertical-align: top;\n    }\n\n    .dataframe thead th {\n        text-align: right;\n    }\n</style>\n<table border=\"1\" class=\"dataframe\">\n  <thead>\n    <tr style=\"text-align: right;\">\n      <th></th>\n      <th>Model</th>\n      <th>Avg Jaccard</th>\n      <th>Avg paragraphs</th>\n      <th>Avg sentences per p</th>\n      <th>Avg outputs</th>\n    </tr>\n  </thead>\n  <tbody>\n    <tr>\n      <th>0</th>\n      <td>llama2:7b-chat-q4_0</td>\n      <td>0.89</td>\n      <td>7.23</td>\n      <td>2.00</td>\n      <td>1.38</td>\n    </tr>\n    <tr>\n      <th>0</th>\n      <td>mistral:7b</td>\n      <td>0.83</td>\n      <td>6.46</td>\n      <td>2.27</td>\n      <td>1.43</td>\n    </tr>\n    <tr>\n      <th>0</th>\n      <td>openchat:7b-v3.5-q4_0</td>\n      <td>0.99</td>\n      <td>1.20</td>\n      <td>13.05</td>\n      <td>1.01</td>\n    </tr>\n    <tr>\n      <th>0</th>\n      <td>orca-mini:7b</td>\n      <td>0.98</td>\n      <td>1.26</td>\n      <td>12.79</td>\n      <td>1.06</td>\n    </tr>\n  </tbody>\n</table>\n</div>"
     },
     "execution_count": 17,
     "metadata": {},
     "output_type": "execute_result"
    }
   ],
   "source": [
    "# df_final.to_csv(\"best-all-narra-models.csv\", index=False)"
   ],
   "metadata": {
    "collapsed": false,
    "ExecuteTime": {
     "end_time": "2024-03-26T11:36:25.534078Z",
     "start_time": "2024-03-26T11:36:25.515073Z"
    }
   },
   "id": "855540c57e612197",
   "execution_count": 17
  },
  {
   "cell_type": "code",
   "outputs": [
    {
     "data": {
      "application/vnd.plotly.v1+json": {
       "data": [
        {
         "line": {
          "color": "red"
         },
         "mode": "lines+markers",
         "name": "J98",
         "x": [
          0,
          1,
          2,
          3,
          4,
          5,
          6,
          7,
          8,
          9,
          10,
          11,
          12,
          13,
          14,
          15,
          16,
          17,
          18,
          19,
          20,
          21,
          22,
          23,
          24,
          25,
          26,
          27,
          28,
          29,
          30,
          31,
          32,
          33,
          34,
          35,
          36,
          37,
          38,
          39,
          40,
          41,
          42,
          43,
          44,
          45,
          46,
          47,
          48,
          49,
          50,
          51,
          52,
          53,
          54,
          55,
          56,
          57,
          58,
          59,
          60,
          61,
          62,
          63,
          64,
          65,
          66,
          67,
          68,
          69,
          70,
          71,
          72,
          73,
          74,
          75,
          76,
          77,
          78,
          79,
          80,
          81,
          82,
          83,
          84,
          85,
          86,
          87,
          88,
          89,
          90,
          91,
          92,
          93,
          94,
          95,
          96,
          97,
          98,
          99,
          100,
          101,
          102,
          103,
          104,
          105,
          106,
          107,
          108,
          109,
          110,
          111,
          112,
          113,
          114,
          115,
          116,
          117,
          118,
          119,
          120,
          121,
          122,
          123
         ],
         "y": [
          0.9502487562189056,
          0.89937106918239,
          0.95625,
          0.9696969696969696,
          0.9758454106280192,
          0.9611650485436892,
          0.9495412844036696,
          0.9227272727272728,
          0.9483568075117372,
          0.9753694581280788,
          0.9241071428571428,
          0.9705882352941176,
          0.9342105263157896,
          0.96875,
          0.967391304347826,
          0.9754901960784312,
          0.9536082474226804,
          0.953125,
          0.9746192893401016,
          0.9814814814814816,
          0.95,
          0.975609756097561,
          0.912442396313364,
          0.9471153846153846,
          0.9747474747474748,
          0.9813953488372092,
          0.976958525345622,
          0.96,
          0.9553571428571428,
          0.9761904761904762,
          0.9666666666666668,
          0.9282051282051282,
          0.960698689956332,
          0.8951965065502183,
          0.9209302325581395,
          0.9757281553398058,
          0.981651376146789,
          0.981132075471698,
          0.9676258992805756,
          0.9241071428571428,
          0.9541284403669724,
          0.9813084112149532,
          0.9090909090909092,
          0.9598214285714286,
          0.9680365296803652,
          0.922077922077922,
          0.8481012658227848,
          0.9761904761904762,
          0.9690265486725664,
          0.9073170731707316,
          0.9705882352941176,
          0.9634703196347032,
          0.9254658385093169,
          0.9142857142857144,
          0.9617224880382776,
          0.9342105263157896,
          0.9583333333333334,
          0.9186046511627908,
          0.9641255605381166,
          0.976525821596244,
          0.9728260869565216,
          0.9035532994923858,
          0.9243243243243244,
          0.9140271493212668,
          0.9025641025641026,
          0.9655172413793104,
          0.9458128078817734,
          0.9672131147540984,
          0.9685534591194968,
          0.9536423841059604,
          0.968421052631579,
          0.9767441860465116,
          0.9034090909090908,
          0.9515418502202644,
          0.9356435643564356,
          0.9772727272727272,
          0.8309178743961353,
          0.948936170212766,
          0.9170305676855895,
          0.9576719576719576,
          0.975,
          0.9740932642487048,
          0.9767441860465116,
          0.9210526315789472,
          0.8506787330316742,
          0.9672897196261684,
          0.9294117647058824,
          0.7843137254901961,
          0.9377593360995852,
          0.9603960396039604,
          0.976878612716763,
          0.968181818181818,
          0.8188976377952756,
          0.9583333333333334,
          0.9710144927536232,
          0.9783549783549784,
          0.970873786407767,
          0.9269406392694064,
          0.9526627218934912,
          0.9739583333333334,
          0.7268722466960352,
          0.9230769230769232,
          0.976851851851852,
          0.9608695652173912,
          0.9248826291079812,
          0.9624413145539906,
          0.8444444444444444,
          0.9289099526066352,
          0.9017094017094016,
          0.9746192893401016,
          0.8777292576419214,
          0.9541284403669724,
          0.9727891156462584,
          0.8603603603603603,
          0.9583333333333334,
          0.91324200913242,
          0.8651685393258427,
          0.9782608695652174,
          0.6983471074380165,
          0.9642857142857144,
          0.7658227848101266,
          0.9772727272727272,
          0.9326923076923076,
          0.9423076923076924
         ],
         "type": "scatter"
        },
        {
         "line": {
          "color": "blue"
         },
         "mode": "lines+markers",
         "name": "J90",
         "x": [
          0,
          1,
          2,
          3,
          4,
          5,
          6,
          7,
          8,
          9,
          10,
          11,
          12,
          13,
          14,
          15,
          16,
          17,
          18,
          19,
          20,
          21,
          22,
          23,
          24,
          25,
          26,
          27,
          28,
          29,
          30,
          31,
          32,
          33,
          34,
          35,
          36,
          37,
          38,
          39,
          40,
          41,
          42,
          43,
          44,
          45,
          46,
          47,
          48,
          49,
          50,
          51,
          52,
          53,
          54,
          55,
          56,
          57,
          58,
          59,
          60,
          61,
          62,
          63,
          64,
          65,
          66,
          67,
          68,
          69,
          70,
          71,
          72,
          73,
          74,
          75,
          76,
          77,
          78,
          79,
          80,
          81,
          82,
          83,
          84,
          85,
          86,
          87,
          88,
          89,
          90,
          91,
          92,
          93,
          94,
          95,
          96,
          97,
          98,
          99,
          100,
          101,
          102,
          103,
          104,
          105,
          106,
          107,
          108,
          109,
          110,
          111,
          112,
          113,
          114,
          115,
          116,
          117,
          118,
          119,
          120,
          121,
          122,
          123
         ],
         "y": [
          0.9502487562189056,
          0.89937106918239,
          0.95625,
          0.9696969696969696,
          0.9758454106280192,
          0.9611650485436892,
          0.9495412844036696,
          0.9227272727272728,
          0.9483568075117372,
          0.9753694581280788,
          0.9241071428571428,
          0.9705882352941176,
          0.9342105263157896,
          0.96875,
          0.967391304347826,
          0.9754901960784312,
          0.9536082474226804,
          0.953125,
          0.9746192893401016,
          0.9814814814814816,
          0.95,
          0.975609756097561,
          0.912442396313364,
          0.9468599033816424,
          0.9747474747474748,
          0.9813953488372092,
          0.976958525345622,
          0.9552238805970148,
          0.9553571428571428,
          0.9761904761904762,
          0.9666666666666668,
          0.918918918918919,
          0.960698689956332,
          0.8951965065502183,
          0.9209302325581395,
          0.9757281553398058,
          0.981651376146789,
          0.981132075471698,
          0.9676258992805756,
          0.9241071428571428,
          0.9541284403669724,
          0.9813084112149532,
          0.9090909090909092,
          0.9598214285714286,
          0.9680365296803652,
          0.922077922077922,
          0.8481012658227848,
          0.9761904761904762,
          0.9690265486725664,
          0.9073170731707316,
          0.9565217391304348,
          0.9504504504504504,
          0.9254658385093169,
          0.9142857142857144,
          0.9617224880382776,
          0.927038626609442,
          0.9583333333333334,
          0.9186046511627908,
          0.9641255605381166,
          0.976525821596244,
          0.9728260869565216,
          0.9035532994923858,
          0.9243243243243244,
          0.9140271493212668,
          0.9025641025641026,
          0.9655172413793104,
          0.9458128078817734,
          0.9672131147540984,
          0.9685534591194968,
          0.9536423841059604,
          0.968421052631579,
          0.9767441860465116,
          0.9034090909090908,
          0.9515418502202644,
          0.9043062200956936,
          0.9772727272727272,
          0.8309178743961353,
          0.948936170212766,
          0.9170305676855895,
          0.9329896907216496,
          0.975,
          0.912621359223301,
          0.9767441860465116,
          0.9210526315789472,
          0.8506787330316742,
          0.9672897196261684,
          0.9294117647058824,
          0.7843137254901961,
          0.9377593360995852,
          0.9603960396039604,
          0.976878612716763,
          0.968181818181818,
          0.8188976377952756,
          0.9292929292929292,
          0.9710144927536232,
          0.9783549783549784,
          0.970873786407767,
          0.9269406392694064,
          0.9526627218934912,
          0.9739583333333334,
          0.7268722466960352,
          0.9191489361702128,
          0.976851851851852,
          0.9608695652173912,
          0.9036697247706422,
          0.9624413145539906,
          0.8444444444444444,
          0.9289099526066352,
          0.9017094017094016,
          0.9746192893401016,
          0.8777292576419214,
          0.9541284403669724,
          0.9727891156462584,
          0.8603603603603603,
          0.9583333333333334,
          0.91324200913242,
          0.8651685393258427,
          0.9782608695652174,
          0.6983471074380165,
          0.9642857142857144,
          0.7658227848101266,
          0.9772727272727272,
          0.9326923076923076,
          0.9423076923076924
         ],
         "type": "scatter"
        }
       ],
       "layout": {
        "template": {
         "data": {
          "histogram2dcontour": [
           {
            "type": "histogram2dcontour",
            "colorbar": {
             "outlinewidth": 0,
             "ticks": ""
            },
            "colorscale": [
             [
              0.0,
              "#0d0887"
             ],
             [
              0.1111111111111111,
              "#46039f"
             ],
             [
              0.2222222222222222,
              "#7201a8"
             ],
             [
              0.3333333333333333,
              "#9c179e"
             ],
             [
              0.4444444444444444,
              "#bd3786"
             ],
             [
              0.5555555555555556,
              "#d8576b"
             ],
             [
              0.6666666666666666,
              "#ed7953"
             ],
             [
              0.7777777777777778,
              "#fb9f3a"
             ],
             [
              0.8888888888888888,
              "#fdca26"
             ],
             [
              1.0,
              "#f0f921"
             ]
            ]
           }
          ],
          "choropleth": [
           {
            "type": "choropleth",
            "colorbar": {
             "outlinewidth": 0,
             "ticks": ""
            }
           }
          ],
          "histogram2d": [
           {
            "type": "histogram2d",
            "colorbar": {
             "outlinewidth": 0,
             "ticks": ""
            },
            "colorscale": [
             [
              0.0,
              "#0d0887"
             ],
             [
              0.1111111111111111,
              "#46039f"
             ],
             [
              0.2222222222222222,
              "#7201a8"
             ],
             [
              0.3333333333333333,
              "#9c179e"
             ],
             [
              0.4444444444444444,
              "#bd3786"
             ],
             [
              0.5555555555555556,
              "#d8576b"
             ],
             [
              0.6666666666666666,
              "#ed7953"
             ],
             [
              0.7777777777777778,
              "#fb9f3a"
             ],
             [
              0.8888888888888888,
              "#fdca26"
             ],
             [
              1.0,
              "#f0f921"
             ]
            ]
           }
          ],
          "heatmap": [
           {
            "type": "heatmap",
            "colorbar": {
             "outlinewidth": 0,
             "ticks": ""
            },
            "colorscale": [
             [
              0.0,
              "#0d0887"
             ],
             [
              0.1111111111111111,
              "#46039f"
             ],
             [
              0.2222222222222222,
              "#7201a8"
             ],
             [
              0.3333333333333333,
              "#9c179e"
             ],
             [
              0.4444444444444444,
              "#bd3786"
             ],
             [
              0.5555555555555556,
              "#d8576b"
             ],
             [
              0.6666666666666666,
              "#ed7953"
             ],
             [
              0.7777777777777778,
              "#fb9f3a"
             ],
             [
              0.8888888888888888,
              "#fdca26"
             ],
             [
              1.0,
              "#f0f921"
             ]
            ]
           }
          ],
          "heatmapgl": [
           {
            "type": "heatmapgl",
            "colorbar": {
             "outlinewidth": 0,
             "ticks": ""
            },
            "colorscale": [
             [
              0.0,
              "#0d0887"
             ],
             [
              0.1111111111111111,
              "#46039f"
             ],
             [
              0.2222222222222222,
              "#7201a8"
             ],
             [
              0.3333333333333333,
              "#9c179e"
             ],
             [
              0.4444444444444444,
              "#bd3786"
             ],
             [
              0.5555555555555556,
              "#d8576b"
             ],
             [
              0.6666666666666666,
              "#ed7953"
             ],
             [
              0.7777777777777778,
              "#fb9f3a"
             ],
             [
              0.8888888888888888,
              "#fdca26"
             ],
             [
              1.0,
              "#f0f921"
             ]
            ]
           }
          ],
          "contourcarpet": [
           {
            "type": "contourcarpet",
            "colorbar": {
             "outlinewidth": 0,
             "ticks": ""
            }
           }
          ],
          "contour": [
           {
            "type": "contour",
            "colorbar": {
             "outlinewidth": 0,
             "ticks": ""
            },
            "colorscale": [
             [
              0.0,
              "#0d0887"
             ],
             [
              0.1111111111111111,
              "#46039f"
             ],
             [
              0.2222222222222222,
              "#7201a8"
             ],
             [
              0.3333333333333333,
              "#9c179e"
             ],
             [
              0.4444444444444444,
              "#bd3786"
             ],
             [
              0.5555555555555556,
              "#d8576b"
             ],
             [
              0.6666666666666666,
              "#ed7953"
             ],
             [
              0.7777777777777778,
              "#fb9f3a"
             ],
             [
              0.8888888888888888,
              "#fdca26"
             ],
             [
              1.0,
              "#f0f921"
             ]
            ]
           }
          ],
          "surface": [
           {
            "type": "surface",
            "colorbar": {
             "outlinewidth": 0,
             "ticks": ""
            },
            "colorscale": [
             [
              0.0,
              "#0d0887"
             ],
             [
              0.1111111111111111,
              "#46039f"
             ],
             [
              0.2222222222222222,
              "#7201a8"
             ],
             [
              0.3333333333333333,
              "#9c179e"
             ],
             [
              0.4444444444444444,
              "#bd3786"
             ],
             [
              0.5555555555555556,
              "#d8576b"
             ],
             [
              0.6666666666666666,
              "#ed7953"
             ],
             [
              0.7777777777777778,
              "#fb9f3a"
             ],
             [
              0.8888888888888888,
              "#fdca26"
             ],
             [
              1.0,
              "#f0f921"
             ]
            ]
           }
          ],
          "mesh3d": [
           {
            "type": "mesh3d",
            "colorbar": {
             "outlinewidth": 0,
             "ticks": ""
            }
           }
          ],
          "scatter": [
           {
            "marker": {
             "line": {
              "color": "#283442"
             }
            },
            "type": "scatter"
           }
          ],
          "parcoords": [
           {
            "type": "parcoords",
            "line": {
             "colorbar": {
              "outlinewidth": 0,
              "ticks": ""
             }
            }
           }
          ],
          "scatterpolargl": [
           {
            "type": "scatterpolargl",
            "marker": {
             "colorbar": {
              "outlinewidth": 0,
              "ticks": ""
             }
            }
           }
          ],
          "bar": [
           {
            "error_x": {
             "color": "#f2f5fa"
            },
            "error_y": {
             "color": "#f2f5fa"
            },
            "marker": {
             "line": {
              "color": "rgb(17,17,17)",
              "width": 0.5
             },
             "pattern": {
              "fillmode": "overlay",
              "size": 10,
              "solidity": 0.2
             }
            },
            "type": "bar"
           }
          ],
          "scattergeo": [
           {
            "type": "scattergeo",
            "marker": {
             "colorbar": {
              "outlinewidth": 0,
              "ticks": ""
             }
            }
           }
          ],
          "scatterpolar": [
           {
            "type": "scatterpolar",
            "marker": {
             "colorbar": {
              "outlinewidth": 0,
              "ticks": ""
             }
            }
           }
          ],
          "histogram": [
           {
            "marker": {
             "pattern": {
              "fillmode": "overlay",
              "size": 10,
              "solidity": 0.2
             }
            },
            "type": "histogram"
           }
          ],
          "scattergl": [
           {
            "marker": {
             "line": {
              "color": "#283442"
             }
            },
            "type": "scattergl"
           }
          ],
          "scatter3d": [
           {
            "type": "scatter3d",
            "line": {
             "colorbar": {
              "outlinewidth": 0,
              "ticks": ""
             }
            },
            "marker": {
             "colorbar": {
              "outlinewidth": 0,
              "ticks": ""
             }
            }
           }
          ],
          "scattermapbox": [
           {
            "type": "scattermapbox",
            "marker": {
             "colorbar": {
              "outlinewidth": 0,
              "ticks": ""
             }
            }
           }
          ],
          "scatterternary": [
           {
            "type": "scatterternary",
            "marker": {
             "colorbar": {
              "outlinewidth": 0,
              "ticks": ""
             }
            }
           }
          ],
          "scattercarpet": [
           {
            "type": "scattercarpet",
            "marker": {
             "colorbar": {
              "outlinewidth": 0,
              "ticks": ""
             }
            }
           }
          ],
          "carpet": [
           {
            "aaxis": {
             "endlinecolor": "#A2B1C6",
             "gridcolor": "#506784",
             "linecolor": "#506784",
             "minorgridcolor": "#506784",
             "startlinecolor": "#A2B1C6"
            },
            "baxis": {
             "endlinecolor": "#A2B1C6",
             "gridcolor": "#506784",
             "linecolor": "#506784",
             "minorgridcolor": "#506784",
             "startlinecolor": "#A2B1C6"
            },
            "type": "carpet"
           }
          ],
          "table": [
           {
            "cells": {
             "fill": {
              "color": "#506784"
             },
             "line": {
              "color": "rgb(17,17,17)"
             }
            },
            "header": {
             "fill": {
              "color": "#2a3f5f"
             },
             "line": {
              "color": "rgb(17,17,17)"
             }
            },
            "type": "table"
           }
          ],
          "barpolar": [
           {
            "marker": {
             "line": {
              "color": "rgb(17,17,17)",
              "width": 0.5
             },
             "pattern": {
              "fillmode": "overlay",
              "size": 10,
              "solidity": 0.2
             }
            },
            "type": "barpolar"
           }
          ],
          "pie": [
           {
            "automargin": true,
            "type": "pie"
           }
          ]
         },
         "layout": {
          "autotypenumbers": "strict",
          "colorway": [
           "#636efa",
           "#EF553B",
           "#00cc96",
           "#ab63fa",
           "#FFA15A",
           "#19d3f3",
           "#FF6692",
           "#B6E880",
           "#FF97FF",
           "#FECB52"
          ],
          "font": {
           "color": "#f2f5fa"
          },
          "hovermode": "closest",
          "hoverlabel": {
           "align": "left"
          },
          "paper_bgcolor": "rgb(17,17,17)",
          "plot_bgcolor": "rgb(17,17,17)",
          "polar": {
           "bgcolor": "rgb(17,17,17)",
           "angularaxis": {
            "gridcolor": "#506784",
            "linecolor": "#506784",
            "ticks": ""
           },
           "radialaxis": {
            "gridcolor": "#506784",
            "linecolor": "#506784",
            "ticks": ""
           }
          },
          "ternary": {
           "bgcolor": "rgb(17,17,17)",
           "aaxis": {
            "gridcolor": "#506784",
            "linecolor": "#506784",
            "ticks": ""
           },
           "baxis": {
            "gridcolor": "#506784",
            "linecolor": "#506784",
            "ticks": ""
           },
           "caxis": {
            "gridcolor": "#506784",
            "linecolor": "#506784",
            "ticks": ""
           }
          },
          "coloraxis": {
           "colorbar": {
            "outlinewidth": 0,
            "ticks": ""
           }
          },
          "colorscale": {
           "sequential": [
            [
             0.0,
             "#0d0887"
            ],
            [
             0.1111111111111111,
             "#46039f"
            ],
            [
             0.2222222222222222,
             "#7201a8"
            ],
            [
             0.3333333333333333,
             "#9c179e"
            ],
            [
             0.4444444444444444,
             "#bd3786"
            ],
            [
             0.5555555555555556,
             "#d8576b"
            ],
            [
             0.6666666666666666,
             "#ed7953"
            ],
            [
             0.7777777777777778,
             "#fb9f3a"
            ],
            [
             0.8888888888888888,
             "#fdca26"
            ],
            [
             1.0,
             "#f0f921"
            ]
           ],
           "sequentialminus": [
            [
             0.0,
             "#0d0887"
            ],
            [
             0.1111111111111111,
             "#46039f"
            ],
            [
             0.2222222222222222,
             "#7201a8"
            ],
            [
             0.3333333333333333,
             "#9c179e"
            ],
            [
             0.4444444444444444,
             "#bd3786"
            ],
            [
             0.5555555555555556,
             "#d8576b"
            ],
            [
             0.6666666666666666,
             "#ed7953"
            ],
            [
             0.7777777777777778,
             "#fb9f3a"
            ],
            [
             0.8888888888888888,
             "#fdca26"
            ],
            [
             1.0,
             "#f0f921"
            ]
           ],
           "diverging": [
            [
             0,
             "#8e0152"
            ],
            [
             0.1,
             "#c51b7d"
            ],
            [
             0.2,
             "#de77ae"
            ],
            [
             0.3,
             "#f1b6da"
            ],
            [
             0.4,
             "#fde0ef"
            ],
            [
             0.5,
             "#f7f7f7"
            ],
            [
             0.6,
             "#e6f5d0"
            ],
            [
             0.7,
             "#b8e186"
            ],
            [
             0.8,
             "#7fbc41"
            ],
            [
             0.9,
             "#4d9221"
            ],
            [
             1,
             "#276419"
            ]
           ]
          },
          "xaxis": {
           "gridcolor": "#283442",
           "linecolor": "#506784",
           "ticks": "",
           "title": {
            "standoff": 15
           },
           "zerolinecolor": "#283442",
           "automargin": true,
           "zerolinewidth": 2
          },
          "yaxis": {
           "gridcolor": "#283442",
           "linecolor": "#506784",
           "ticks": "",
           "title": {
            "standoff": 15
           },
           "zerolinecolor": "#283442",
           "automargin": true,
           "zerolinewidth": 2
          },
          "scene": {
           "xaxis": {
            "backgroundcolor": "rgb(17,17,17)",
            "gridcolor": "#506784",
            "linecolor": "#506784",
            "showbackground": true,
            "ticks": "",
            "zerolinecolor": "#C8D4E3",
            "gridwidth": 2
           },
           "yaxis": {
            "backgroundcolor": "rgb(17,17,17)",
            "gridcolor": "#506784",
            "linecolor": "#506784",
            "showbackground": true,
            "ticks": "",
            "zerolinecolor": "#C8D4E3",
            "gridwidth": 2
           },
           "zaxis": {
            "backgroundcolor": "rgb(17,17,17)",
            "gridcolor": "#506784",
            "linecolor": "#506784",
            "showbackground": true,
            "ticks": "",
            "zerolinecolor": "#C8D4E3",
            "gridwidth": 2
           }
          },
          "shapedefaults": {
           "line": {
            "color": "#f2f5fa"
           }
          },
          "annotationdefaults": {
           "arrowcolor": "#f2f5fa",
           "arrowhead": 0,
           "arrowwidth": 1
          },
          "geo": {
           "bgcolor": "rgb(17,17,17)",
           "landcolor": "rgb(17,17,17)",
           "subunitcolor": "#506784",
           "showland": true,
           "showlakes": true,
           "lakecolor": "rgb(17,17,17)"
          },
          "title": {
           "x": 0.05
          },
          "updatemenudefaults": {
           "bgcolor": "#506784",
           "borderwidth": 0
          },
          "sliderdefaults": {
           "bgcolor": "#C8D4E3",
           "borderwidth": 1,
           "bordercolor": "rgb(17,17,17)",
           "tickwidth": 0
          },
          "mapbox": {
           "style": "dark"
          }
         }
        },
        "legend": {
         "traceorder": "reversed"
        },
        "xaxis": {
         "title": {
          "text": "Narrative index"
         }
        },
        "yaxis": {
         "title": {
          "text": "Jaccard"
         }
        }
       },
       "config": {
        "plotlyServerURL": "https://plot.ly"
       }
      },
      "text/html": "<div>                            <div id=\"f81d83a0-f84f-4b90-a3ce-cb52c371e7a1\" class=\"plotly-graph-div\" style=\"height:525px; width:100%;\"></div>            <script type=\"text/javascript\">                require([\"plotly\"], function(Plotly) {                    window.PLOTLYENV=window.PLOTLYENV || {};                                    if (document.getElementById(\"f81d83a0-f84f-4b90-a3ce-cb52c371e7a1\")) {                    Plotly.newPlot(                        \"f81d83a0-f84f-4b90-a3ce-cb52c371e7a1\",                        [{\"line\":{\"color\":\"red\"},\"mode\":\"lines+markers\",\"name\":\"J98\",\"x\":[0,1,2,3,4,5,6,7,8,9,10,11,12,13,14,15,16,17,18,19,20,21,22,23,24,25,26,27,28,29,30,31,32,33,34,35,36,37,38,39,40,41,42,43,44,45,46,47,48,49,50,51,52,53,54,55,56,57,58,59,60,61,62,63,64,65,66,67,68,69,70,71,72,73,74,75,76,77,78,79,80,81,82,83,84,85,86,87,88,89,90,91,92,93,94,95,96,97,98,99,100,101,102,103,104,105,106,107,108,109,110,111,112,113,114,115,116,117,118,119,120,121,122,123],\"y\":[0.9502487562189056,0.89937106918239,0.95625,0.9696969696969696,0.9758454106280192,0.9611650485436892,0.9495412844036696,0.9227272727272728,0.9483568075117372,0.9753694581280788,0.9241071428571428,0.9705882352941176,0.9342105263157896,0.96875,0.967391304347826,0.9754901960784312,0.9536082474226804,0.953125,0.9746192893401016,0.9814814814814816,0.95,0.975609756097561,0.912442396313364,0.9471153846153846,0.9747474747474748,0.9813953488372092,0.976958525345622,0.96,0.9553571428571428,0.9761904761904762,0.9666666666666668,0.9282051282051282,0.960698689956332,0.8951965065502183,0.9209302325581395,0.9757281553398058,0.981651376146789,0.981132075471698,0.9676258992805756,0.9241071428571428,0.9541284403669724,0.9813084112149532,0.9090909090909092,0.9598214285714286,0.9680365296803652,0.922077922077922,0.8481012658227848,0.9761904761904762,0.9690265486725664,0.9073170731707316,0.9705882352941176,0.9634703196347032,0.9254658385093169,0.9142857142857144,0.9617224880382776,0.9342105263157896,0.9583333333333334,0.9186046511627908,0.9641255605381166,0.976525821596244,0.9728260869565216,0.9035532994923858,0.9243243243243244,0.9140271493212668,0.9025641025641026,0.9655172413793104,0.9458128078817734,0.9672131147540984,0.9685534591194968,0.9536423841059604,0.968421052631579,0.9767441860465116,0.9034090909090908,0.9515418502202644,0.9356435643564356,0.9772727272727272,0.8309178743961353,0.948936170212766,0.9170305676855895,0.9576719576719576,0.975,0.9740932642487048,0.9767441860465116,0.9210526315789472,0.8506787330316742,0.9672897196261684,0.9294117647058824,0.7843137254901961,0.9377593360995852,0.9603960396039604,0.976878612716763,0.968181818181818,0.8188976377952756,0.9583333333333334,0.9710144927536232,0.9783549783549784,0.970873786407767,0.9269406392694064,0.9526627218934912,0.9739583333333334,0.7268722466960352,0.9230769230769232,0.976851851851852,0.9608695652173912,0.9248826291079812,0.9624413145539906,0.8444444444444444,0.9289099526066352,0.9017094017094016,0.9746192893401016,0.8777292576419214,0.9541284403669724,0.9727891156462584,0.8603603603603603,0.9583333333333334,0.91324200913242,0.8651685393258427,0.9782608695652174,0.6983471074380165,0.9642857142857144,0.7658227848101266,0.9772727272727272,0.9326923076923076,0.9423076923076924],\"type\":\"scatter\"},{\"line\":{\"color\":\"blue\"},\"mode\":\"lines+markers\",\"name\":\"J90\",\"x\":[0,1,2,3,4,5,6,7,8,9,10,11,12,13,14,15,16,17,18,19,20,21,22,23,24,25,26,27,28,29,30,31,32,33,34,35,36,37,38,39,40,41,42,43,44,45,46,47,48,49,50,51,52,53,54,55,56,57,58,59,60,61,62,63,64,65,66,67,68,69,70,71,72,73,74,75,76,77,78,79,80,81,82,83,84,85,86,87,88,89,90,91,92,93,94,95,96,97,98,99,100,101,102,103,104,105,106,107,108,109,110,111,112,113,114,115,116,117,118,119,120,121,122,123],\"y\":[0.9502487562189056,0.89937106918239,0.95625,0.9696969696969696,0.9758454106280192,0.9611650485436892,0.9495412844036696,0.9227272727272728,0.9483568075117372,0.9753694581280788,0.9241071428571428,0.9705882352941176,0.9342105263157896,0.96875,0.967391304347826,0.9754901960784312,0.9536082474226804,0.953125,0.9746192893401016,0.9814814814814816,0.95,0.975609756097561,0.912442396313364,0.9468599033816424,0.9747474747474748,0.9813953488372092,0.976958525345622,0.9552238805970148,0.9553571428571428,0.9761904761904762,0.9666666666666668,0.918918918918919,0.960698689956332,0.8951965065502183,0.9209302325581395,0.9757281553398058,0.981651376146789,0.981132075471698,0.9676258992805756,0.9241071428571428,0.9541284403669724,0.9813084112149532,0.9090909090909092,0.9598214285714286,0.9680365296803652,0.922077922077922,0.8481012658227848,0.9761904761904762,0.9690265486725664,0.9073170731707316,0.9565217391304348,0.9504504504504504,0.9254658385093169,0.9142857142857144,0.9617224880382776,0.927038626609442,0.9583333333333334,0.9186046511627908,0.9641255605381166,0.976525821596244,0.9728260869565216,0.9035532994923858,0.9243243243243244,0.9140271493212668,0.9025641025641026,0.9655172413793104,0.9458128078817734,0.9672131147540984,0.9685534591194968,0.9536423841059604,0.968421052631579,0.9767441860465116,0.9034090909090908,0.9515418502202644,0.9043062200956936,0.9772727272727272,0.8309178743961353,0.948936170212766,0.9170305676855895,0.9329896907216496,0.975,0.912621359223301,0.9767441860465116,0.9210526315789472,0.8506787330316742,0.9672897196261684,0.9294117647058824,0.7843137254901961,0.9377593360995852,0.9603960396039604,0.976878612716763,0.968181818181818,0.8188976377952756,0.9292929292929292,0.9710144927536232,0.9783549783549784,0.970873786407767,0.9269406392694064,0.9526627218934912,0.9739583333333334,0.7268722466960352,0.9191489361702128,0.976851851851852,0.9608695652173912,0.9036697247706422,0.9624413145539906,0.8444444444444444,0.9289099526066352,0.9017094017094016,0.9746192893401016,0.8777292576419214,0.9541284403669724,0.9727891156462584,0.8603603603603603,0.9583333333333334,0.91324200913242,0.8651685393258427,0.9782608695652174,0.6983471074380165,0.9642857142857144,0.7658227848101266,0.9772727272727272,0.9326923076923076,0.9423076923076924],\"type\":\"scatter\"}],                        {\"template\":{\"data\":{\"histogram2dcontour\":[{\"type\":\"histogram2dcontour\",\"colorbar\":{\"outlinewidth\":0,\"ticks\":\"\"},\"colorscale\":[[0.0,\"#0d0887\"],[0.1111111111111111,\"#46039f\"],[0.2222222222222222,\"#7201a8\"],[0.3333333333333333,\"#9c179e\"],[0.4444444444444444,\"#bd3786\"],[0.5555555555555556,\"#d8576b\"],[0.6666666666666666,\"#ed7953\"],[0.7777777777777778,\"#fb9f3a\"],[0.8888888888888888,\"#fdca26\"],[1.0,\"#f0f921\"]]}],\"choropleth\":[{\"type\":\"choropleth\",\"colorbar\":{\"outlinewidth\":0,\"ticks\":\"\"}}],\"histogram2d\":[{\"type\":\"histogram2d\",\"colorbar\":{\"outlinewidth\":0,\"ticks\":\"\"},\"colorscale\":[[0.0,\"#0d0887\"],[0.1111111111111111,\"#46039f\"],[0.2222222222222222,\"#7201a8\"],[0.3333333333333333,\"#9c179e\"],[0.4444444444444444,\"#bd3786\"],[0.5555555555555556,\"#d8576b\"],[0.6666666666666666,\"#ed7953\"],[0.7777777777777778,\"#fb9f3a\"],[0.8888888888888888,\"#fdca26\"],[1.0,\"#f0f921\"]]}],\"heatmap\":[{\"type\":\"heatmap\",\"colorbar\":{\"outlinewidth\":0,\"ticks\":\"\"},\"colorscale\":[[0.0,\"#0d0887\"],[0.1111111111111111,\"#46039f\"],[0.2222222222222222,\"#7201a8\"],[0.3333333333333333,\"#9c179e\"],[0.4444444444444444,\"#bd3786\"],[0.5555555555555556,\"#d8576b\"],[0.6666666666666666,\"#ed7953\"],[0.7777777777777778,\"#fb9f3a\"],[0.8888888888888888,\"#fdca26\"],[1.0,\"#f0f921\"]]}],\"heatmapgl\":[{\"type\":\"heatmapgl\",\"colorbar\":{\"outlinewidth\":0,\"ticks\":\"\"},\"colorscale\":[[0.0,\"#0d0887\"],[0.1111111111111111,\"#46039f\"],[0.2222222222222222,\"#7201a8\"],[0.3333333333333333,\"#9c179e\"],[0.4444444444444444,\"#bd3786\"],[0.5555555555555556,\"#d8576b\"],[0.6666666666666666,\"#ed7953\"],[0.7777777777777778,\"#fb9f3a\"],[0.8888888888888888,\"#fdca26\"],[1.0,\"#f0f921\"]]}],\"contourcarpet\":[{\"type\":\"contourcarpet\",\"colorbar\":{\"outlinewidth\":0,\"ticks\":\"\"}}],\"contour\":[{\"type\":\"contour\",\"colorbar\":{\"outlinewidth\":0,\"ticks\":\"\"},\"colorscale\":[[0.0,\"#0d0887\"],[0.1111111111111111,\"#46039f\"],[0.2222222222222222,\"#7201a8\"],[0.3333333333333333,\"#9c179e\"],[0.4444444444444444,\"#bd3786\"],[0.5555555555555556,\"#d8576b\"],[0.6666666666666666,\"#ed7953\"],[0.7777777777777778,\"#fb9f3a\"],[0.8888888888888888,\"#fdca26\"],[1.0,\"#f0f921\"]]}],\"surface\":[{\"type\":\"surface\",\"colorbar\":{\"outlinewidth\":0,\"ticks\":\"\"},\"colorscale\":[[0.0,\"#0d0887\"],[0.1111111111111111,\"#46039f\"],[0.2222222222222222,\"#7201a8\"],[0.3333333333333333,\"#9c179e\"],[0.4444444444444444,\"#bd3786\"],[0.5555555555555556,\"#d8576b\"],[0.6666666666666666,\"#ed7953\"],[0.7777777777777778,\"#fb9f3a\"],[0.8888888888888888,\"#fdca26\"],[1.0,\"#f0f921\"]]}],\"mesh3d\":[{\"type\":\"mesh3d\",\"colorbar\":{\"outlinewidth\":0,\"ticks\":\"\"}}],\"scatter\":[{\"marker\":{\"line\":{\"color\":\"#283442\"}},\"type\":\"scatter\"}],\"parcoords\":[{\"type\":\"parcoords\",\"line\":{\"colorbar\":{\"outlinewidth\":0,\"ticks\":\"\"}}}],\"scatterpolargl\":[{\"type\":\"scatterpolargl\",\"marker\":{\"colorbar\":{\"outlinewidth\":0,\"ticks\":\"\"}}}],\"bar\":[{\"error_x\":{\"color\":\"#f2f5fa\"},\"error_y\":{\"color\":\"#f2f5fa\"},\"marker\":{\"line\":{\"color\":\"rgb(17,17,17)\",\"width\":0.5},\"pattern\":{\"fillmode\":\"overlay\",\"size\":10,\"solidity\":0.2}},\"type\":\"bar\"}],\"scattergeo\":[{\"type\":\"scattergeo\",\"marker\":{\"colorbar\":{\"outlinewidth\":0,\"ticks\":\"\"}}}],\"scatterpolar\":[{\"type\":\"scatterpolar\",\"marker\":{\"colorbar\":{\"outlinewidth\":0,\"ticks\":\"\"}}}],\"histogram\":[{\"marker\":{\"pattern\":{\"fillmode\":\"overlay\",\"size\":10,\"solidity\":0.2}},\"type\":\"histogram\"}],\"scattergl\":[{\"marker\":{\"line\":{\"color\":\"#283442\"}},\"type\":\"scattergl\"}],\"scatter3d\":[{\"type\":\"scatter3d\",\"line\":{\"colorbar\":{\"outlinewidth\":0,\"ticks\":\"\"}},\"marker\":{\"colorbar\":{\"outlinewidth\":0,\"ticks\":\"\"}}}],\"scattermapbox\":[{\"type\":\"scattermapbox\",\"marker\":{\"colorbar\":{\"outlinewidth\":0,\"ticks\":\"\"}}}],\"scatterternary\":[{\"type\":\"scatterternary\",\"marker\":{\"colorbar\":{\"outlinewidth\":0,\"ticks\":\"\"}}}],\"scattercarpet\":[{\"type\":\"scattercarpet\",\"marker\":{\"colorbar\":{\"outlinewidth\":0,\"ticks\":\"\"}}}],\"carpet\":[{\"aaxis\":{\"endlinecolor\":\"#A2B1C6\",\"gridcolor\":\"#506784\",\"linecolor\":\"#506784\",\"minorgridcolor\":\"#506784\",\"startlinecolor\":\"#A2B1C6\"},\"baxis\":{\"endlinecolor\":\"#A2B1C6\",\"gridcolor\":\"#506784\",\"linecolor\":\"#506784\",\"minorgridcolor\":\"#506784\",\"startlinecolor\":\"#A2B1C6\"},\"type\":\"carpet\"}],\"table\":[{\"cells\":{\"fill\":{\"color\":\"#506784\"},\"line\":{\"color\":\"rgb(17,17,17)\"}},\"header\":{\"fill\":{\"color\":\"#2a3f5f\"},\"line\":{\"color\":\"rgb(17,17,17)\"}},\"type\":\"table\"}],\"barpolar\":[{\"marker\":{\"line\":{\"color\":\"rgb(17,17,17)\",\"width\":0.5},\"pattern\":{\"fillmode\":\"overlay\",\"size\":10,\"solidity\":0.2}},\"type\":\"barpolar\"}],\"pie\":[{\"automargin\":true,\"type\":\"pie\"}]},\"layout\":{\"autotypenumbers\":\"strict\",\"colorway\":[\"#636efa\",\"#EF553B\",\"#00cc96\",\"#ab63fa\",\"#FFA15A\",\"#19d3f3\",\"#FF6692\",\"#B6E880\",\"#FF97FF\",\"#FECB52\"],\"font\":{\"color\":\"#f2f5fa\"},\"hovermode\":\"closest\",\"hoverlabel\":{\"align\":\"left\"},\"paper_bgcolor\":\"rgb(17,17,17)\",\"plot_bgcolor\":\"rgb(17,17,17)\",\"polar\":{\"bgcolor\":\"rgb(17,17,17)\",\"angularaxis\":{\"gridcolor\":\"#506784\",\"linecolor\":\"#506784\",\"ticks\":\"\"},\"radialaxis\":{\"gridcolor\":\"#506784\",\"linecolor\":\"#506784\",\"ticks\":\"\"}},\"ternary\":{\"bgcolor\":\"rgb(17,17,17)\",\"aaxis\":{\"gridcolor\":\"#506784\",\"linecolor\":\"#506784\",\"ticks\":\"\"},\"baxis\":{\"gridcolor\":\"#506784\",\"linecolor\":\"#506784\",\"ticks\":\"\"},\"caxis\":{\"gridcolor\":\"#506784\",\"linecolor\":\"#506784\",\"ticks\":\"\"}},\"coloraxis\":{\"colorbar\":{\"outlinewidth\":0,\"ticks\":\"\"}},\"colorscale\":{\"sequential\":[[0.0,\"#0d0887\"],[0.1111111111111111,\"#46039f\"],[0.2222222222222222,\"#7201a8\"],[0.3333333333333333,\"#9c179e\"],[0.4444444444444444,\"#bd3786\"],[0.5555555555555556,\"#d8576b\"],[0.6666666666666666,\"#ed7953\"],[0.7777777777777778,\"#fb9f3a\"],[0.8888888888888888,\"#fdca26\"],[1.0,\"#f0f921\"]],\"sequentialminus\":[[0.0,\"#0d0887\"],[0.1111111111111111,\"#46039f\"],[0.2222222222222222,\"#7201a8\"],[0.3333333333333333,\"#9c179e\"],[0.4444444444444444,\"#bd3786\"],[0.5555555555555556,\"#d8576b\"],[0.6666666666666666,\"#ed7953\"],[0.7777777777777778,\"#fb9f3a\"],[0.8888888888888888,\"#fdca26\"],[1.0,\"#f0f921\"]],\"diverging\":[[0,\"#8e0152\"],[0.1,\"#c51b7d\"],[0.2,\"#de77ae\"],[0.3,\"#f1b6da\"],[0.4,\"#fde0ef\"],[0.5,\"#f7f7f7\"],[0.6,\"#e6f5d0\"],[0.7,\"#b8e186\"],[0.8,\"#7fbc41\"],[0.9,\"#4d9221\"],[1,\"#276419\"]]},\"xaxis\":{\"gridcolor\":\"#283442\",\"linecolor\":\"#506784\",\"ticks\":\"\",\"title\":{\"standoff\":15},\"zerolinecolor\":\"#283442\",\"automargin\":true,\"zerolinewidth\":2},\"yaxis\":{\"gridcolor\":\"#283442\",\"linecolor\":\"#506784\",\"ticks\":\"\",\"title\":{\"standoff\":15},\"zerolinecolor\":\"#283442\",\"automargin\":true,\"zerolinewidth\":2},\"scene\":{\"xaxis\":{\"backgroundcolor\":\"rgb(17,17,17)\",\"gridcolor\":\"#506784\",\"linecolor\":\"#506784\",\"showbackground\":true,\"ticks\":\"\",\"zerolinecolor\":\"#C8D4E3\",\"gridwidth\":2},\"yaxis\":{\"backgroundcolor\":\"rgb(17,17,17)\",\"gridcolor\":\"#506784\",\"linecolor\":\"#506784\",\"showbackground\":true,\"ticks\":\"\",\"zerolinecolor\":\"#C8D4E3\",\"gridwidth\":2},\"zaxis\":{\"backgroundcolor\":\"rgb(17,17,17)\",\"gridcolor\":\"#506784\",\"linecolor\":\"#506784\",\"showbackground\":true,\"ticks\":\"\",\"zerolinecolor\":\"#C8D4E3\",\"gridwidth\":2}},\"shapedefaults\":{\"line\":{\"color\":\"#f2f5fa\"}},\"annotationdefaults\":{\"arrowcolor\":\"#f2f5fa\",\"arrowhead\":0,\"arrowwidth\":1},\"geo\":{\"bgcolor\":\"rgb(17,17,17)\",\"landcolor\":\"rgb(17,17,17)\",\"subunitcolor\":\"#506784\",\"showland\":true,\"showlakes\":true,\"lakecolor\":\"rgb(17,17,17)\"},\"title\":{\"x\":0.05},\"updatemenudefaults\":{\"bgcolor\":\"#506784\",\"borderwidth\":0},\"sliderdefaults\":{\"bgcolor\":\"#C8D4E3\",\"borderwidth\":1,\"bordercolor\":\"rgb(17,17,17)\",\"tickwidth\":0},\"mapbox\":{\"style\":\"dark\"}}},\"legend\":{\"traceorder\":\"reversed\"},\"xaxis\":{\"title\":{\"text\":\"Narrative index\"}},\"yaxis\":{\"title\":{\"text\":\"Jaccard\"}}},                        {\"responsive\": true}                    ).then(function(){\n                            \nvar gd = document.getElementById('f81d83a0-f84f-4b90-a3ce-cb52c371e7a1');\nvar x = new MutationObserver(function (mutations, observer) {{\n        var display = window.getComputedStyle(gd).display;\n        if (!display || display === 'none') {{\n            console.log([gd, 'removed!']);\n            Plotly.purge(gd);\n            observer.disconnect();\n        }}\n}});\n\n// Listen for the removal of the full notebook cells\nvar notebookContainer = gd.closest('#notebook-container');\nif (notebookContainer) {{\n    x.observe(notebookContainer, {childList: true});\n}}\n\n// Listen for the clearing of the current output cell\nvar outputEl = gd.closest('.output');\nif (outputEl) {{\n    x.observe(outputEl, {childList: true});\n}}\n\n                        })                };                });            </script>        </div>"
     },
     "metadata": {},
     "output_type": "display_data"
    }
   ],
   "source": [
    "import plotly.graph_objs as go\n",
    "\n",
    "file1 = 'results-narra-' + suffix2 + '.csv'\n",
    "file2 = 'results-narra-' + suffix + '.csv'\n",
    "\n",
    "file_paths = [file1, file2]\n",
    "\n",
    "dataframes = []\n",
    "for file_path in file_paths:\n",
    "    data = pd.read_csv(file_path)\n",
    "    dataframes.append(data)\n",
    "\n",
    "column_to_compare = 'Jaccard'\n",
    "\n",
    "fig = go.Figure()\n",
    "\n",
    "for idx, dataframe in enumerate(dataframes):\n",
    "    if idx == 0:\n",
    "        color = 'red'\n",
    "    else:\n",
    "        color = 'blue'\n",
    "    fig.add_trace(go.Scatter(x=dataframe['narrative'].index, y=dataframe[column_to_compare],\n",
    "                             mode='lines+markers',\n",
    "                             line=dict(color=color),\n",
    "                             name=f'DataFrame {idx + 1}'))\n",
    "\n",
    "fig.update_layout(xaxis_title='Narrative index',\n",
    "                  yaxis_title=column_to_compare,\n",
    "                  legend=dict(traceorder='reversed'))\n",
    "\n",
    "fig.data[0].name = 'J98'\n",
    "fig.data[1].name = 'J90'\n",
    "\n",
    "fig.show()"
   ],
   "metadata": {
    "collapsed": false,
    "ExecuteTime": {
     "end_time": "2024-03-28T10:45:39.280053Z",
     "start_time": "2024-03-28T10:45:39.256071Z"
    }
   },
   "id": "27e09c1fd0cfef22",
   "execution_count": 25
  },
  {
   "cell_type": "code",
   "outputs": [
    {
     "data": {
      "text/plain": "    Unnamed: 0 narrative   Jaccard  # Paragraphs  Avg sentences  # Characters  \\\n31          31  Vesuvius  0.928205           6.0       2.166667        1780.0   \n\n    # Tokens  \n31     348.0  ",
      "text/html": "<div>\n<style scoped>\n    .dataframe tbody tr th:only-of-type {\n        vertical-align: middle;\n    }\n\n    .dataframe tbody tr th {\n        vertical-align: top;\n    }\n\n    .dataframe thead th {\n        text-align: right;\n    }\n</style>\n<table border=\"1\" class=\"dataframe\">\n  <thead>\n    <tr style=\"text-align: right;\">\n      <th></th>\n      <th>Unnamed: 0</th>\n      <th>narrative</th>\n      <th>Jaccard</th>\n      <th># Paragraphs</th>\n      <th>Avg sentences</th>\n      <th># Characters</th>\n      <th># Tokens</th>\n    </tr>\n  </thead>\n  <tbody>\n    <tr>\n      <th>31</th>\n      <td>31</td>\n      <td>Vesuvius</td>\n      <td>0.928205</td>\n      <td>6.0</td>\n      <td>2.166667</td>\n      <td>1780.0</td>\n      <td>348.0</td>\n    </tr>\n  </tbody>\n</table>\n</div>"
     },
     "execution_count": 21,
     "metadata": {},
     "output_type": "execute_result"
    }
   ],
   "source": [
    "dataframes[1][dataframes[1][\"Unnamed: 0\"] == 31]"
   ],
   "metadata": {
    "collapsed": false,
    "ExecuteTime": {
     "end_time": "2024-03-28T10:44:24.018088Z",
     "start_time": "2024-03-28T10:44:24.011088Z"
    }
   },
   "id": "cbd12dbe1715b856",
   "execution_count": 21
  },
  {
   "cell_type": "code",
   "outputs": [
    {
     "data": {
      "text/plain": "    Unnamed: 0 narrative   Jaccard  # Paragraphs  Avg sentences  # Characters  \\\n31          31  Vesuvius  0.918919           5.0            2.4        1574.0   \n\n    # Tokens  \n31     306.0  ",
      "text/html": "<div>\n<style scoped>\n    .dataframe tbody tr th:only-of-type {\n        vertical-align: middle;\n    }\n\n    .dataframe tbody tr th {\n        vertical-align: top;\n    }\n\n    .dataframe thead th {\n        text-align: right;\n    }\n</style>\n<table border=\"1\" class=\"dataframe\">\n  <thead>\n    <tr style=\"text-align: right;\">\n      <th></th>\n      <th>Unnamed: 0</th>\n      <th>narrative</th>\n      <th>Jaccard</th>\n      <th># Paragraphs</th>\n      <th>Avg sentences</th>\n      <th># Characters</th>\n      <th># Tokens</th>\n    </tr>\n  </thead>\n  <tbody>\n    <tr>\n      <th>31</th>\n      <td>31</td>\n      <td>Vesuvius</td>\n      <td>0.918919</td>\n      <td>5.0</td>\n      <td>2.4</td>\n      <td>1574.0</td>\n      <td>306.0</td>\n    </tr>\n  </tbody>\n</table>\n</div>"
     },
     "execution_count": 22,
     "metadata": {},
     "output_type": "execute_result"
    }
   ],
   "source": [
    "dataframes[0][dataframes[0][\"Unnamed: 0\"] == 31]"
   ],
   "metadata": {
    "collapsed": false,
    "ExecuteTime": {
     "end_time": "2024-03-28T10:44:26.426783Z",
     "start_time": "2024-03-28T10:44:26.406226Z"
    }
   },
   "id": "b2403438e78d3dc4",
   "execution_count": 22
  }
 ],
 "metadata": {
  "kernelspec": {
   "display_name": "Python 3 (ipykernel)",
   "language": "python",
   "name": "python3"
  },
  "language_info": {
   "codemirror_mode": {
    "name": "ipython",
    "version": 3
   },
   "file_extension": ".py",
   "mimetype": "text/x-python",
   "name": "python",
   "nbconvert_exporter": "python",
   "pygments_lexer": "ipython3",
   "version": "3.11.5"
  }
 },
 "nbformat": 4,
 "nbformat_minor": 5
}
